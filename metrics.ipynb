{
 "cells": [
  {
   "cell_type": "code",
   "execution_count": 2,
   "metadata": {
    "collapsed": false
   },
   "outputs": [
    {
     "name": "stderr",
     "output_type": "stream",
     "text": [
      "Using gpu device 0: GeForce GTX TITAN X (CNMeM is disabled, CuDNN 4007)\n"
     ]
    }
   ],
   "source": [
    "import numpy as np\n",
    "# import itertools\n",
    "from utils.pass_quality import pass_quality, approx_pq\n",
    "from utils.data import load_data\n",
    "import matplotlib.pylab as plt"
   ]
  },
  {
   "cell_type": "code",
   "execution_count": 3,
   "metadata": {
    "collapsed": true
   },
   "outputs": [],
   "source": [
    "%matplotlib inline"
   ]
  },
  {
   "cell_type": "markdown",
   "metadata": {},
   "source": [
    "## Fast pass_quality objective"
   ]
  },
  {
   "cell_type": "code",
   "execution_count": 17,
   "metadata": {
    "collapsed": false
   },
   "outputs": [],
   "source": [
    "data = load_data()\n",
    "\n",
    "X, y = data.drop(['ref_pass'], axis=1), data['ref_pass']\n",
    "\n",
    "y_true, y_pred = y.values, data['pass.1'].values\n",
    "\n",
    "y_pass, y_sig = y_true, y_pred"
   ]
  },
  {
   "cell_type": "code",
   "execution_count": 18,
   "metadata": {
    "collapsed": false
   },
   "outputs": [
    {
     "name": "stdout",
     "output_type": "stream",
     "text": [
      "r= 6416 err= 1602\n"
     ]
    },
    {
     "data": {
      "text/plain": [
       "0.800199551010227"
      ]
     },
     "execution_count": 18,
     "metadata": {},
     "output_type": "execute_result"
    }
   ],
   "source": [
    "pass_quality(y_true, y_pred)"
   ]
  },
  {
   "cell_type": "code",
   "execution_count": 19,
   "metadata": {
    "collapsed": false
   },
   "outputs": [
    {
     "name": "stdout",
     "output_type": "stream",
     "text": [
      "r= 6414 err= 1605\n"
     ]
    },
    {
     "data": {
      "text/plain": [
       "0.799850355405911"
      ]
     },
     "execution_count": 19,
     "metadata": {},
     "output_type": "execute_result"
    }
   ],
   "source": [
    "approx_pq(y_true, y_pred)"
   ]
  },
  {
   "cell_type": "code",
   "execution_count": 20,
   "metadata": {
    "collapsed": false
   },
   "outputs": [],
   "source": [
    "diffs = np.concatenate([[0], np.diff(y_true + y_pred)])[:10000]"
   ]
  },
  {
   "cell_type": "code",
   "execution_count": 44,
   "metadata": {
    "collapsed": false
   },
   "outputs": [],
   "source": [
    "def approx_pq_debug(y_pass, y_sig):\n",
    "    \"\"\"\n",
    "    Good approximation for pass_quality function,\n",
    "    it may be implemented in theano\n",
    "    -------------\n",
    "    Arguments:\n",
    "        y_pass:\n",
    "        y_sig:\n",
    "    \"\"\"\n",
    "    r = 0\n",
    "    height = 0\n",
    "    error = 0\n",
    "    current_error = 0\n",
    "    diffs = np.concatenate([[0], np.diff(y_pass + y_sig)])\n",
    "    flag = 0\n",
    "    \n",
    "    for s, s_abs in zip(diffs, np.abs(diffs)):\n",
    "        \n",
    "        if height == 2 and flag == 0:\n",
    "            flag = 1\n",
    "            current_error = 2    \n",
    "        \n",
    "        height = np.max([0, height + s])\n",
    "        current_error += s_abs\n",
    "        \n",
    "        if height == 0:\n",
    "            error += (current_error) * (current_error != 4) / 3.\n",
    "            r += (current_error == 4)\n",
    "            current_error = 0\n",
    "    \n",
    "    print 'r=', r, 'err=', error\n",
    "    epsilon = 0.0001\n",
    "    return 1 - (float(r) + epsilon) / (r + error + epsilon)"
   ]
  },
  {
   "cell_type": "code",
   "execution_count": 45,
   "metadata": {
    "collapsed": false
   },
   "outputs": [
    {
     "name": "stdout",
     "output_type": "stream",
     "text": [
      "r= 6221 err= 1600\n",
      "0.204577419767\n",
      "r= 6219 err= 1464.0\n",
      "0.190550563705\n"
     ]
    }
   ],
   "source": [
    "n_start = 3500\n",
    "n_finish = n_start + 150000\n",
    "\n",
    "print 1 - pass_quality(y_true[n_start:n_finish], y_pred[n_start:n_finish])\n",
    "print approx_pq_debug(y_true[n_start:n_finish], y_pred[n_start:n_finish])"
   ]
  },
  {
   "cell_type": "code",
   "execution_count": 46,
   "metadata": {
    "collapsed": false
   },
   "outputs": [
    {
     "name": "stdout",
     "output_type": "stream",
     "text": [
      "r= 6219 err= 1464.0\n"
     ]
    },
    {
     "data": {
      "text/plain": [
       "0.19055056370492673"
      ]
     },
     "execution_count": 46,
     "metadata": {},
     "output_type": "execute_result"
    }
   ],
   "source": [
    "approx_pq_debug(y_true[n_start:], y_pred[n_start:])"
   ]
  },
  {
   "cell_type": "code",
   "execution_count": null,
   "metadata": {
    "collapsed": true
   },
   "outputs": [],
   "source": [
    "v"
   ]
  },
  {
   "cell_type": "markdown",
   "metadata": {},
   "source": [
    "# almost the same as true pass_quality metrics"
   ]
  },
  {
   "cell_type": "code",
   "execution_count": 12,
   "metadata": {
    "collapsed": false
   },
   "outputs": [
    {
     "ename": "NameError",
     "evalue": "name 'approx_pqs' is not defined",
     "output_type": "error",
     "traceback": [
      "\u001b[1;31m---------------------------------------------------------------------------\u001b[0m",
      "\u001b[1;31mNameError\u001b[0m                                 Traceback (most recent call last)",
      "\u001b[1;32m<ipython-input-12-486fec45718d>\u001b[0m in \u001b[0;36m<module>\u001b[1;34m()\u001b[0m\n\u001b[0;32m      1\u001b[0m \u001b[1;31m#plt.plot(np.linspace(0, len(pqs), num=len(pqs)), pqs)\u001b[0m\u001b[1;33m\u001b[0m\u001b[1;33m\u001b[0m\u001b[0m\n\u001b[1;32m----> 2\u001b[1;33m \u001b[0mplt\u001b[0m\u001b[1;33m.\u001b[0m\u001b[0mplot\u001b[0m\u001b[1;33m(\u001b[0m\u001b[0mnp\u001b[0m\u001b[1;33m.\u001b[0m\u001b[0mlinspace\u001b[0m\u001b[1;33m(\u001b[0m\u001b[1;36m0\u001b[0m\u001b[1;33m,\u001b[0m \u001b[0mlen\u001b[0m\u001b[1;33m(\u001b[0m\u001b[0mapprox_pqs\u001b[0m\u001b[1;33m)\u001b[0m\u001b[1;33m,\u001b[0m \u001b[0mnum\u001b[0m\u001b[1;33m=\u001b[0m\u001b[0mlen\u001b[0m\u001b[1;33m(\u001b[0m\u001b[0mapprox_pqs\u001b[0m\u001b[1;33m)\u001b[0m\u001b[1;33m)\u001b[0m\u001b[1;33m,\u001b[0m \u001b[0mapprox_pqs\u001b[0m\u001b[1;33m,\u001b[0m \u001b[0mc\u001b[0m\u001b[1;33m=\u001b[0m\u001b[1;34m'r'\u001b[0m\u001b[1;33m)\u001b[0m\u001b[1;33m\u001b[0m\u001b[0m\n\u001b[0m",
      "\u001b[1;31mNameError\u001b[0m: name 'approx_pqs' is not defined"
     ]
    }
   ],
   "source": [
    "#plt.plot(np.linspace(0, len(pqs), num=len(pqs)), pqs)\n",
    "plt.plot(np.linspace(0, len(approx_pq), ), approx_pqs, c='r')"
   ]
  },
  {
   "cell_type": "markdown",
   "metadata": {},
   "source": [
    "# theano implementation"
   ]
  },
  {
   "cell_type": "code",
   "execution_count": 8,
   "metadata": {
    "collapsed": true
   },
   "outputs": [],
   "source": [
    "import theano \n",
    "from theano import tensor as T\n",
    "from theano import function\n",
    "from theano.tensor import concatenate\n",
    "from theano import scan\n",
    "from theano.tensor import eq, neq, isclose"
   ]
  },
  {
   "cell_type": "code",
   "execution_count": 9,
   "metadata": {
    "collapsed": true
   },
   "outputs": [],
   "source": [
    "# excluding if statement:"
   ]
  },
  {
   "cell_type": "code",
   "execution_count": null,
   "metadata": {
    "collapsed": false
   },
   "outputs": [],
   "source": []
  },
  {
   "cell_type": "code",
   "execution_count": 10,
   "metadata": {
    "collapsed": false
   },
   "outputs": [],
   "source": [
    "T_R = theano.shared(0., 'R')\n",
    "T_height = theano.shared(0., 'h')\n",
    "T_error = theano.shared(0., 'err',)\n",
    "T_current_error = theano.shared(0., 'c_err')\n",
    "T_diffs = T.vector('diffs')"
   ]
  },
  {
   "cell_type": "code",
   "execution_count": 13,
   "metadata": {
    "collapsed": false
   },
   "outputs": [],
   "source": [
    "import theano \n",
    "from theano import tensor as T\n",
    "from theano import function\n",
    "from theano.tensor import concatenate\n",
    "from theano import scan\n",
    "from theano.tensor import eq, neq, isclose"
   ]
  },
  {
   "cell_type": "code",
   "execution_count": 14,
   "metadata": {
    "collapsed": false
   },
   "outputs": [],
   "source": [
    "def OneStep(s, s_abs, error, R, height, current_error):\n",
    "    height += s\n",
    "    current_error += s_abs\n",
    "    error += (current_error *  T.switch(isclose(current_error, 4), 0, 1)) / 3. * isclose(height, 0.)\n",
    "    R += isclose(current_error, 4.) * isclose(height, 0.)\n",
    "    current_error = current_error - current_error * isclose(height, 0.)\n",
    "    return error, R, height, current_error\n",
    "\n",
    "def pq_theano(y_true, y_pred):\n",
    "    y_true = y_true.astype(dtype='float64')\n",
    "    y_pred = y_pred.astype(dtype='float64')\n",
    "    T_diffs  = T.extra_ops.diff(y_true + y_pred)\n",
    "    \n",
    "    R = theano.shared(0., 'R')\n",
    "    height = theano.shared(0., 'h')\n",
    "    error = theano.shared(0., 'err',)\n",
    "    current_error = theano.shared(0., 'c_err')\n",
    "    \n",
    "    values, updates = scan(fn=OneStep, \n",
    "                           sequences = [T.concatenate([[0], T_diffs]), T.abs_(T.concatenate([[0], T_diffs]))],\n",
    "                           outputs_info = [T.shape_padleft(T.zeros_like(error)), \n",
    "                                           T.shape_padleft(T.zeros_like(R)),\n",
    "                                           T.shape_padleft(T.zeros_like(height)),\n",
    "                                           T.shape_padleft(T.zeros_like(current_error))])\n",
    "                            \n",
    "    epsilon = 0.00000000001\n",
    "    return 1 - (values[1] + epsilon) / (values[1] + values[0] + epsilon)"
   ]
  },
  {
   "cell_type": "code",
   "execution_count": 15,
   "metadata": {
    "collapsed": true
   },
   "outputs": [],
   "source": [
    "y_t, y_p = T.vector(name='y_t', dtype='float32'), T.vector(name='y_p', dtype='float32')"
   ]
  },
  {
   "cell_type": "code",
   "execution_count": 16,
   "metadata": {
    "collapsed": false
   },
   "outputs": [
    {
     "name": "stdout",
     "output_type": "stream",
     "text": [
      "TensorType(float64, vector)\n"
     ]
    }
   ],
   "source": [
    "f = function(inputs=[y_t, y_p], outputs=pq_theano(y_t, y_p))"
   ]
  },
  {
   "cell_type": "code",
   "execution_count": 18,
   "metadata": {
    "collapsed": false
   },
   "outputs": [
    {
     "data": {
      "text/plain": [
       "array([[ 0.18574331],\n",
       "       [ 0.18574331],\n",
       "       [ 0.18574331],\n",
       "       [ 0.18574331],\n",
       "       [ 0.18574331],\n",
       "       [ 0.18574331],\n",
       "       [ 0.18574331],\n",
       "       [ 0.18574331],\n",
       "       [ 0.18574331],\n",
       "       [ 0.18574331],\n",
       "       [ 0.18574331],\n",
       "       [ 0.18574331],\n",
       "       [ 0.18574331],\n",
       "       [ 0.18574331],\n",
       "       [ 0.18574331],\n",
       "       [ 0.18574331],\n",
       "       [ 0.18574331],\n",
       "       [ 0.18574331],\n",
       "       [ 0.18574331],\n",
       "       [ 0.18574331],\n",
       "       [ 0.18574331],\n",
       "       [ 0.18574331],\n",
       "       [ 0.18574331],\n",
       "       [ 0.18574331],\n",
       "       [ 0.18574331],\n",
       "       [ 0.18574331],\n",
       "       [ 0.18574331],\n",
       "       [ 0.18574331],\n",
       "       [ 0.18574331],\n",
       "       [ 0.18574331],\n",
       "       [ 0.18574331],\n",
       "       [ 0.18574331],\n",
       "       [ 0.18574331],\n",
       "       [ 0.18574331],\n",
       "       [ 0.18574331],\n",
       "       [ 0.18574331],\n",
       "       [ 0.18574331],\n",
       "       [ 0.18601896],\n",
       "       [ 0.18601896],\n",
       "       [ 0.18601896],\n",
       "       [ 0.18601896],\n",
       "       [ 0.18601896],\n",
       "       [ 0.18601896],\n",
       "       [ 0.18601896],\n",
       "       [ 0.18601896],\n",
       "       [ 0.18601896],\n",
       "       [ 0.18601896],\n",
       "       [ 0.18601896],\n",
       "       [ 0.18601896],\n",
       "       [ 0.18601896],\n",
       "       [ 0.18601896],\n",
       "       [ 0.18601896],\n",
       "       [ 0.18601896],\n",
       "       [ 0.18601896],\n",
       "       [ 0.18601896],\n",
       "       [ 0.18601896],\n",
       "       [ 0.18601896],\n",
       "       [ 0.18601896],\n",
       "       [ 0.18601896],\n",
       "       [ 0.18601896],\n",
       "       [ 0.18601896],\n",
       "       [ 0.18601896],\n",
       "       [ 0.18601896],\n",
       "       [ 0.18601896],\n",
       "       [ 0.18601896],\n",
       "       [ 0.18601896],\n",
       "       [ 0.18601896],\n",
       "       [ 0.18601896],\n",
       "       [ 0.18601896],\n",
       "       [ 0.18601896],\n",
       "       [ 0.18601896],\n",
       "       [ 0.18601896],\n",
       "       [ 0.18601896],\n",
       "       [ 0.18601896],\n",
       "       [ 0.18601896],\n",
       "       [ 0.18601896],\n",
       "       [ 0.18601896],\n",
       "       [ 0.18601896],\n",
       "       [ 0.18599535],\n",
       "       [ 0.18599535],\n",
       "       [ 0.18599535],\n",
       "       [ 0.18599535],\n",
       "       [ 0.18599535],\n",
       "       [ 0.18599535],\n",
       "       [ 0.18599535],\n",
       "       [ 0.18599535],\n",
       "       [ 0.18599535],\n",
       "       [ 0.18599535],\n",
       "       [ 0.18599535],\n",
       "       [ 0.18599535],\n",
       "       [ 0.18599535],\n",
       "       [ 0.18599535],\n",
       "       [ 0.18599535],\n",
       "       [ 0.18599535],\n",
       "       [ 0.18599535],\n",
       "       [ 0.18599535],\n",
       "       [ 0.18599535],\n",
       "       [ 0.18597174],\n",
       "       [ 0.18597174],\n",
       "       [ 0.18597174]])"
      ]
     },
     "execution_count": 18,
     "metadata": {},
     "output_type": "execute_result"
    }
   ],
   "source": [
    "f(y_true.astype('float32'), y_pred.astype('float32'))"
   ]
  },
  {
   "cell_type": "code",
   "execution_count": null,
   "metadata": {
    "collapsed": false
   },
   "outputs": [],
   "source": []
  },
  {
   "cell_type": "code",
   "execution_count": null,
   "metadata": {
    "collapsed": true
   },
   "outputs": [],
   "source": []
  }
 ],
 "metadata": {
  "kernelspec": {
   "display_name": "Python 2",
   "language": "python",
   "name": "python2"
  },
  "language_info": {
   "codemirror_mode": {
    "name": "ipython",
    "version": 2
   },
   "file_extension": ".py",
   "mimetype": "text/x-python",
   "name": "python",
   "nbconvert_exporter": "python",
   "pygments_lexer": "ipython2",
   "version": "2.7.11"
  }
 },
 "nbformat": 4,
 "nbformat_minor": 0
}
