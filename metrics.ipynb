{
 "cells": [
  {
   "cell_type": "code",
   "execution_count": 30,
   "metadata": {
    "collapsed": true
   },
   "outputs": [],
   "source": [
    "import numpy as np\n",
    "from utils.utils import split_by_passes\n",
    "from utils.data import load_data"
   ]
  },
  {
   "cell_type": "code",
   "execution_count": 231,
   "metadata": {
    "collapsed": false
   },
   "outputs": [],
   "source": [
    "def PQ(y_true, y_pred):\n",
    "    #TODO: make faster\n",
    "    \n",
    "    y_true_sp = split_by_passes(y_true)\n",
    "    y_true_rngs = np.array([set(range(y[0], y[-1] + 1)) for y in y_true_sp])\n",
    "\n",
    "    y_pred_sp = split_by_passes(y_pred)\n",
    "    y_pred_rngs = np.array([set(range(y[0], y[-1] + 1)) for y in y_pred_sp])\n",
    "\n",
    "    undetected = 0\n",
    "    for true_pass in y_true_sp:\n",
    "        if len(split_by_passes(y_pred[true_pass[0]:true_pass[-1]+1])) == 0:\n",
    "            undetected += 1\n",
    "    \n",
    "    #c\n",
    "    gapped_num = 0\n",
    "    not_gapped = set(range(len(y_true_sp)))\n",
    "    for num, true_pass in enumerate(y_true_sp):\n",
    "        if len(split_by_passes(y_pred[true_pass[0]:true_pass[-1]+1])) > 1:\n",
    "            gapped_num += 1\n",
    "            not_gapped.remove(num)\n",
    "\n",
    "    not_gapped = list(np.array(y_true_rngs)[list(not_gapped)])\n",
    "\n",
    "    #glued\n",
    "    glued_num = 0\n",
    "    not_glued = set(range(len(y_pred_sp)))\n",
    "    for num, pred_pass in enumerate(y_pred_sp):\n",
    "        if len(split_by_passes(y_true[pred_pass[0]:pred_pass[-1]+1])) > 1:\n",
    "            glued_num += 1\n",
    "            not_glued.remove(num)\n",
    "            \n",
    "    not_glued = list(np.array(y_pred_rngs)[list(not_glued)])\n",
    "    \n",
    "    #ghost is correct\n",
    "    ghosts = 0\n",
    "    for pred_pass in y_pred_sp:\n",
    "        if len(split_by_passes(y_true[pred_pass[0]:pred_pass[-1]+1])) == 0:\n",
    "            ghosts += 1\n",
    "    \n",
    "    #right detected passes\n",
    "    #R = np.sum(np.sum(joints, axis=1) == 1)\n",
    "    R = 0\n",
    "    \n",
    "    for true_pass in not_gapped:\n",
    "        for pred_pass in not_glued:\n",
    "            if not true_pass.isdisjoint(pred_pass):\n",
    "                R += 1\n",
    "                \n",
    "    \n",
    "    \n",
    "    \n",
    "    #PQ\n",
    "    return float(R)/(R + undet + gapped_num + glued_num + ghosts)#, R, undet, gapped_num, glued_num, ghosts"
   ]
  },
  {
   "cell_type": "code",
   "execution_count": 232,
   "metadata": {
    "collapsed": true
   },
   "outputs": [],
   "source": [
    "data = load_data()"
   ]
  },
  {
   "cell_type": "code",
   "execution_count": 233,
   "metadata": {
    "collapsed": false
   },
   "outputs": [],
   "source": [
    "X, y = data.drop(['ref_pass'], axis=1), data['ref_pass']"
   ]
  },
  {
   "cell_type": "code",
   "execution_count": 234,
   "metadata": {
    "collapsed": false
   },
   "outputs": [],
   "source": [
    "y_true, y_pred = y.values, data['pass.1'].values"
   ]
  },
  {
   "cell_type": "code",
   "execution_count": 235,
   "metadata": {
    "collapsed": false
   },
   "outputs": [
    {
     "data": {
      "text/plain": [
       "0.8407751734974467"
      ]
     },
     "execution_count": 235,
     "metadata": {},
     "output_type": "execute_result"
    }
   ],
   "source": [
    "PQ(y_true, y_pred)"
   ]
  },
  {
   "cell_type": "code",
   "execution_count": 228,
   "metadata": {
    "collapsed": false
   },
   "outputs": [
    {
     "data": {
      "text/plain": [
       "6988"
      ]
     },
     "execution_count": 228,
     "metadata": {},
     "output_type": "execute_result"
    }
   ],
   "source": [
    "6421 + 244 + 323"
   ]
  },
  {
   "cell_type": "code",
   "execution_count": 230,
   "metadata": {
    "collapsed": false
   },
   "outputs": [
    {
     "data": {
      "text/plain": [
       "7480"
      ]
     },
     "execution_count": 230,
     "metadata": {},
     "output_type": "execute_result"
    }
   ],
   "source": [
    "len(y_true_sp)"
   ]
  },
  {
   "cell_type": "code",
   "execution_count": 247,
   "metadata": {
    "collapsed": false
   },
   "outputs": [],
   "source": [
    "import theano.tensor as T\n",
    "from theano import function"
   ]
  },
  {
   "cell_type": "code",
   "execution_count": 248,
   "metadata": {
    "collapsed": false
   },
   "outputs": [],
   "source": [
    "y_true = T.dvector('y_true')"
   ]
  },
  {
   "cell_type": "code",
   "execution_count": 249,
   "metadata": {
    "collapsed": true
   },
   "outputs": [],
   "source": [
    "y_pred = T.dvector('y_pred')"
   ]
  },
  {
   "cell_type": "code",
   "execution_count": 253,
   "metadata": {
    "collapsed": true
   },
   "outputs": [],
   "source": [
    "result = T.mean((y_true - y_pred) ** 2)"
   ]
  },
  {
   "cell_type": "code",
   "execution_count": null,
   "metadata": {
    "collapsed": false
   },
   "outputs": [
    {
     "name": "stderr",
     "output_type": "stream",
     "text": [
      "INFO (theano.gof.compilelock): Waiting for existing lock by process '7650' (I am process '2883')\n",
      "INFO:theano.gof.compilelock:Waiting for existing lock by process '7650' (I am process '2883')\n",
      "INFO (theano.gof.compilelock): To manually release the lock, delete /home/novikov/.theano/compiledir_Linux-3.19--generic-x86_64-with-debian-jessie-sid-x86_64-2.7.11-64/lock_dir\n",
      "INFO:theano.gof.compilelock:To manually release the lock, delete /home/novikov/.theano/compiledir_Linux-3.19--generic-x86_64-with-debian-jessie-sid-x86_64-2.7.11-64/lock_dir\n"
     ]
    }
   ],
   "source": [
    "mse = function([y_true, y_pred], result)"
   ]
  },
  {
   "cell_type": "code",
   "execution_count": null,
   "metadata": {
    "collapsed": true
   },
   "outputs": [],
   "source": [
    "mse([1,2,3,4,5], [1,2,3,4,6])"
   ]
  }
 ],
 "metadata": {
  "kernelspec": {
   "display_name": "Python 2",
   "language": "python",
   "name": "python2"
  },
  "language_info": {
   "codemirror_mode": {
    "name": "ipython",
    "version": 2
   },
   "file_extension": ".py",
   "mimetype": "text/x-python",
   "name": "python",
   "nbconvert_exporter": "python",
   "pygments_lexer": "ipython2",
   "version": "2.7.11"
  }
 },
 "nbformat": 4,
 "nbformat_minor": 0
}
