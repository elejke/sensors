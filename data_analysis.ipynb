{
 "cells": [
  {
   "cell_type": "code",
   "execution_count": 4,
   "metadata": {
    "collapsed": false
   },
   "outputs": [],
   "source": [
    "%matplotlib inline\n",
    "import pylab as plt\n",
    "from itertools import groupby\n",
    "\n",
    "import pandas as pd\n",
    "\n",
    "import numpy as np\n",
    "\n",
    "from utils.data import load_data\n",
    "from utils.pass_quality import approx_pq"
   ]
  },
  {
   "cell_type": "code",
   "execution_count": 5,
   "metadata": {
    "collapsed": false
   },
   "outputs": [],
   "source": [
    "data = pd.read_csv('data/new_pd_data_full_int.csv', index_col=['Unnamed: 0'])"
   ]
  },
  {
   "cell_type": "code",
   "execution_count": 7,
   "metadata": {
    "collapsed": false
   },
   "outputs": [],
   "source": [
    "#new_pd_data.drop(labels=list(range(33916, 33916 + 260)), axis=0, inplace=True) # failed data\n",
    "#new_pd_data.drop(labels=list(range(100000, 100000+30000)), axis=0, inplace=True)"
   ]
  },
  {
   "cell_type": "code",
   "execution_count": null,
   "metadata": {
    "collapsed": false
   },
   "outputs": [],
   "source": [
    "lens = np.sort([len([k for k in g]) for (t, g) in groupby(data.ref_pass.values) if t > 0])[:-100]"
   ]
  },
  {
   "cell_type": "code",
   "execution_count": null,
   "metadata": {
    "collapsed": false
   },
   "outputs": [],
   "source": [
    "plt.hist(lens, bins=25)"
   ]
  },
  {
   "cell_type": "code",
   "execution_count": null,
   "metadata": {
    "collapsed": true
   },
   "outputs": [],
   "source": [
    "names = ['cor', 'cor.1', 'loop', 'loop.1', 'pass', 'pass.1']"
   ]
  },
  {
   "cell_type": "code",
   "execution_count": null,
   "metadata": {
    "collapsed": false
   },
   "outputs": [],
   "source": [
    "plt.figure(figsize=[15, 10])\n",
    "\n",
    "plt.plot(list(range(14)), data[:14]['cor.1'].values + 1, 'b')\n",
    "plt.plot(list(range(14)), data[:14]['cor'].values + 1.2, 'b')\n",
    "plt.plot(list(range(14)), data[:14]['loop.1'].values + 1.3, 'b')\n",
    "plt.plot(list(range(14)), data[:14]['loop'].values + 1.4, 'b')\n",
    "plt.plot(list(range(14)), data[:14]['pass'].values + 1.5, 'b')\n",
    "plt.plot(list(range(14)), data[:14]['pass.1'].values + 1.6, 'b')\n",
    "\n",
    "plt.plot(list(range(14)), data[:14][names].T.mean(), '--')\n",
    "\n",
    "plt.plot(list(range(14)), data[:14]['ref_pass'].values, 'r')"
   ]
  },
  {
   "cell_type": "code",
   "execution_count": null,
   "metadata": {
    "collapsed": false
   },
   "outputs": [],
   "source": [
    "plt.figure(figsize=[15, 10])\n",
    "\n",
    "plt.plot(list(range(30-14)), data[14:30]['cor.1'].values + 1, 'g')\n",
    "plt.plot(list(range(30-14)), data[14:30]['cor'].values + 1.2, 'g')\n",
    "plt.plot(list(range(30-14)), data[14:30]['loop.1'].values + 1.3, 'g')\n",
    "plt.plot(list(range(30-14)), data[14:30]['loop'].values + 1.4, 'g')\n",
    "plt.plot(list(range(30-14)), data[14:30]['pass'].values + 1.5, 'g')\n",
    "plt.plot(list(range(30-14)), data[14:30]['pass.1'].values + 1.6, 'g')\n",
    "\n",
    "plt.plot(list(range(30-14)), data[14:30][names].T.mean(), '--')\n",
    "\n",
    "plt.plot(list(range(30-14)), data[14:30]['ref_pass'].values, 'r')"
   ]
  },
  {
   "cell_type": "code",
   "execution_count": null,
   "metadata": {
    "collapsed": false
   },
   "outputs": [],
   "source": [
    "plt.figure(figsize=[15, 10])\n",
    "\n",
    "plt.plot(list(range(45-30)), data[30:45]['cor.1'].values + 1, 'g')\n",
    "plt.plot(list(range(45-30)), data[30:45]['cor'].values + 1.2, 'g')\n",
    "plt.plot(list(range(45-30)), data[30:45]['loop.1'].values + 1.3, 'g')\n",
    "plt.plot(list(range(45-30)), data[30:45]['loop'].values + 1.4, 'g')\n",
    "plt.plot(list(range(45-30)), data[30:45]['pass'].values + 1.5, 'g')\n",
    "plt.plot(list(range(45-30)), data[30:45]['pass.1'].values + 1.6, 'g')\n",
    "\n",
    "plt.plot(list(range(45-30)), data[30:45][names].T.mean(), '--')\n",
    "\n",
    "plt.plot(list(range(45-30)), data[30:45]['ref_pass'].values, 'r')"
   ]
  },
  {
   "cell_type": "code",
   "execution_count": null,
   "metadata": {
    "collapsed": false
   },
   "outputs": [],
   "source": [
    "plt.figure(figsize=[15, 10])\n",
    "\n",
    "plt.plot(list(range(61-45)), data[45:61]['cor.1'].values + 1, 'g')\n",
    "plt.plot(list(range(61-45)), data[45:61]['cor'].values + 1.2, 'g')\n",
    "plt.plot(list(range(61-45)), data[45:61]['loop.1'].values + 1.3, 'g')\n",
    "plt.plot(list(range(61-45)), data[45:61]['loop'].values + 1.4, 'g')\n",
    "plt.plot(list(range(61-45)), data[45:61]['pass'].values + 1.5, 'g')\n",
    "plt.plot(list(range(61-45)), data[45:61]['pass.1'].values + 1.6, 'g')\n",
    "\n",
    "plt.plot(list(range(61-45)), data[45:61][names].T.mean(), '--')\n",
    "\n",
    "plt.plot(list(range(61-45)), data[45:61]['ref_pass'].values, 'r')"
   ]
  },
  {
   "cell_type": "code",
   "execution_count": null,
   "metadata": {
    "collapsed": false
   },
   "outputs": [],
   "source": [
    "plt.figure(figsize=[15, 10])\n",
    "\n",
    "plt.plot(list(range(77-61)), data[61:77]['cor.1'].values + 1, 'g')\n",
    "plt.plot(list(range(77-61)), data[61:77]['cor'].values + 1.2, 'g')\n",
    "plt.plot(list(range(77-61)), data[61:77]['loop.1'].values + 1.3, 'g')\n",
    "plt.plot(list(range(77-61)), data[61:77]['loop'].values + 1.4, 'g')\n",
    "plt.plot(list(range(77-61)), data[61:77]['pass'].values + 1.5, 'g')\n",
    "plt.plot(list(range(77-61)), data[61:77]['pass.1'].values + 1.6, 'g')\n",
    "\n",
    "plt.plot(list(range(77-61)), data[61:77][names].T.mean(), '--')\n",
    "\n",
    "plt.plot(list(range(77-61)), data[61:77]['ref_pass'].values, 'r')"
   ]
  },
  {
   "cell_type": "code",
   "execution_count": null,
   "metadata": {
    "collapsed": false
   },
   "outputs": [],
   "source": [
    "plt.figure(figsize=[15, 10])\n",
    "\n",
    "plt.plot(list(range(93-77)), data[77:93]['cor.1'].values + 1, 'g')\n",
    "plt.plot(list(range(93-77)), data[77:93]['cor'].values + 1.2, 'g')\n",
    "plt.plot(list(range(93-77)), data[77:93]['loop.1'].values + 1.3, 'g')\n",
    "plt.plot(list(range(93-77)), data[77:93]['loop'].values + 1.4, 'g')\n",
    "plt.plot(list(range(93-77)), data[77:93]['pass'].values + 1.5, 'g')\n",
    "plt.plot(list(range(93-77)), data[77:93]['pass.1'].values + 1.6, 'g')\n",
    "\n",
    "plt.plot(list(range(93-77)), data[77:93][names].T.mean(), '--')\n",
    "\n",
    "plt.plot(list(range(93-77)), data[77:93]['ref_pass'].values, 'r')"
   ]
  },
  {
   "cell_type": "code",
   "execution_count": null,
   "metadata": {
    "collapsed": true
   },
   "outputs": [],
   "source": [
    "import pandas as pd\n",
    "\n",
    "def stratified_shuffle(data):\n",
    "    dfs = []\n",
    "    last_i = 0\n",
    "    for i in range(len(data)):\n",
    "        if data.iloc[i]['frame_num'] == 0:\n",
    "            dfs.append(data[last_i:i])\n",
    "            last_i = i\n",
    "    \n",
    "    return pd.cocat(np.random.permutation(dfs))"
   ]
  },
  {
   "cell_type": "code",
   "execution_count": null,
   "metadata": {
    "collapsed": true
   },
   "outputs": [],
   "source": []
  },
  {
   "cell_type": "code",
   "execution_count": null,
   "metadata": {
    "collapsed": false
   },
   "outputs": [],
   "source": [
    "data_extended.to_csv('data/data_extended.csv')"
   ]
  },
  {
   "cell_type": "code",
   "execution_count": 12,
   "metadata": {
    "collapsed": true
   },
   "outputs": [],
   "source": [
    "data = pd.read_csv('data/data_right_post.csv', index_col='Unnamed: 0').drop('y', axis=1)"
   ]
  },
  {
   "cell_type": "code",
   "execution_count": null,
   "metadata": {
    "collapsed": true
   },
   "outputs": [],
   "source": []
  }
 ],
 "metadata": {
  "kernelspec": {
   "display_name": "Python 2",
   "language": "python",
   "name": "python2"
  },
  "language_info": {
   "codemirror_mode": {
    "name": "ipython",
    "version": 2
   },
   "file_extension": ".py",
   "mimetype": "text/x-python",
   "name": "python",
   "nbconvert_exporter": "python",
   "pygments_lexer": "ipython2",
   "version": "2.7.11"
  }
 },
 "nbformat": 4,
 "nbformat_minor": 0
}
