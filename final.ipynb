{
 "cells": [
  {
   "cell_type": "code",
   "execution_count": 1,
   "metadata": {
    "collapsed": false
   },
   "outputs": [
    {
     "name": "stderr",
     "output_type": "stream",
     "text": [
      "Using gpu device 0: GeForce GTX TITAN X (CNMeM is disabled, cuDNN 4007)\n",
      "Using Theano backend.\n"
     ]
    }
   ],
   "source": [
    "import pandas as pd\n",
    "import numpy as np\n",
    "import itertools\n",
    "import os\n",
    "\n",
    "from theano import function\n",
    "import theano.tensor as tt\n",
    "\n",
    "from utils.data import load_new_data, train_test_split\n",
    "from utils.utils import init_weights, morphological_filter\n",
    "from utils.cv import cv_threshold, cv_build_model, cv_fit_model\n",
    "from utils.theano_pq import pq_theano_f, pq_theano, burnaev_metric\n",
    "from utils.pass_quality import approx_pq"
   ]
  },
  {
   "cell_type": "markdown",
   "metadata": {},
   "source": [
    "# theano_pq"
   ]
  },
  {
   "cell_type": "code",
   "execution_count": 3,
   "metadata": {
    "collapsed": true
   },
   "outputs": [],
   "source": [
    "conc_data = load_new_data()"
   ]
  },
  {
   "cell_type": "code",
   "execution_count": 4,
   "metadata": {
    "collapsed": false
   },
   "outputs": [],
   "source": [
    "conc_data['shield_morph'] = morphological_filter(conc_data['r.shield'].values, 3)\n",
    "conc_data['con_morph'] = morphological_filter(conc_data['r.cor'].values, 3)"
   ]
  },
  {
   "cell_type": "code",
   "execution_count": 5,
   "metadata": {
    "collapsed": false
   },
   "outputs": [],
   "source": [
    "X_train, X_test, y_train, y_test = train_test_split(conc_data[['r.cor',\n",
    "                                                               'con_morph',\n",
    "                                                               'r.cor',\n",
    "                                                               'shield_morph',                                    \n",
    "                                                               #'r.pass',\n",
    "                                                               'y']], \n",
    "                                                    test_size=0.2,\n",
    "                                                    n_prev=19)"
   ]
  },
  {
   "cell_type": "code",
   "execution_count": 8,
   "metadata": {
    "collapsed": false
   },
   "outputs": [],
   "source": [
    "model = cv_build_model(X_train, [pq_theano])"
   ]
  },
  {
   "cell_type": "code",
   "execution_count": 9,
   "metadata": {
    "collapsed": false
   },
   "outputs": [
    {
     "name": "stdout",
     "output_type": "stream",
     "text": [
      "Epoch 18/19\n",
      "Epoch 1/1\n",
      "54996/54996 [==============================] - 12s - loss: 0.1138 - pq_theano: 0.3097    \n"
     ]
    }
   ],
   "source": [
    "model = cv_fit_model(model, X_train, y_train, nb_epoch=19, weights=False)"
   ]
  },
  {
   "cell_type": "code",
   "execution_count": 10,
   "metadata": {
    "collapsed": false
   },
   "outputs": [],
   "source": [
    "thres, sm = cv_threshold(X_test, y_test, model, [0])"
   ]
  },
  {
   "cell_type": "code",
   "execution_count": 11,
   "metadata": {
    "collapsed": false
   },
   "outputs": [
    {
     "name": "stdout",
     "output_type": "stream",
     "text": [
      "0.482951642069 0\n"
     ]
    }
   ],
   "source": [
    "print thres, sm"
   ]
  },
  {
   "cell_type": "code",
   "execution_count": 12,
   "metadata": {
    "collapsed": false
   },
   "outputs": [
    {
     "name": "stdout",
     "output_type": "stream",
     "text": [
      "(0.8387236500146712, 5809.0000000099999, 1117.0)\n"
     ]
    }
   ],
   "source": [
    "y_train_pred = (model.predict(X_train) > thres).astype(int).flatten()\n",
    "\n",
    "print approx_pq(y_train, morphological_filter(y_train_pred, sm))[:-1]\n",
    "#print approx_pq(y_train, morphological_filter(y_train_lab, 0))[:-1]"
   ]
  },
  {
   "cell_type": "code",
   "execution_count": 13,
   "metadata": {
    "collapsed": false
   },
   "outputs": [
    {
     "name": "stdout",
     "output_type": "stream",
     "text": [
      "(0.85046189376529757, 1473.0000000099999, 259.0000000000001)\n"
     ]
    }
   ],
   "source": [
    "y_test_pred = (model.predict(X_test) > thres).astype(int).flatten()\n",
    "\n",
    "print approx_pq(y_test, morphological_filter(y_test_pred, sm))[:-1]\n",
    "\n",
    "#print approx_pq(y_test, morphological_filter(y_test_lab, 0))[:-1]"
   ]
  },
  {
   "cell_type": "code",
   "execution_count": 14,
   "metadata": {
    "collapsed": false
   },
   "outputs": [],
   "source": [
    "conc_data['res_c'] = np.concatenate([np.zeros(18), \n",
    "                                       morphological_filter(y_train_pred, sm).astype(int), \n",
    "                                       morphological_filter(y_test_pred, sm).astype(int)])"
   ]
  },
  {
   "cell_type": "code",
   "execution_count": 15,
   "metadata": {
    "collapsed": false
   },
   "outputs": [],
   "source": [
    "# approx_pq(conc_data['y'].astype(int), conc_data['r.pass'].astype(int))[:-1]"
   ]
  },
  {
   "cell_type": "code",
   "execution_count": 17,
   "metadata": {
    "collapsed": false
   },
   "outputs": [
    {
     "data": {
      "text/plain": [
       "(0.84097, 7282, 1377)"
      ]
     },
     "execution_count": 17,
     "metadata": {},
     "output_type": "execute_result"
    }
   ],
   "source": [
    "a, b, c = approx_pq(conc_data['y'].astype(int), conc_data['res_c'].astype(int))[:-1]\n",
    "\n",
    "(int(a * 100000) / 100000., int(b), int(c))"
   ]
  },
  {
   "cell_type": "markdown",
   "metadata": {},
   "source": [
    "# shield + cor:\n",
    "(0.88366, 7277, 958)\n",
    "# only loop:\n",
    "(0.86061, 6798, 1101);(0.86538, 6840, 1064);(0.87144, 6840, 1009);\n",
    "# only pass:\n",
    "(0.8879, 7077, 893);(0.88153, 7017, 943);(0.88531, 7048, 913);(0.88371, 7075, 931);(0.88371, 7075, 931);(0.87849, 7035, 973);\n",
    "# only shield:\n",
    "(0.87096, 7209, 1068); (0.8744, 7201, 1034);(0.8909, 7147, 875);(0.89305, 7190, 861);\n",
    "(0.89437, 7248, 856); $ fantoms and propusk : 88\n",
    "# only cor:\n",
    "(0.8734, 7246, 1050); (0.8953, 7269, 850);(0.8988, 7320, 824);(0.8909, 7225, 884);(0.8857, 7136, 920);\n",
    "(0.9038, 7287, 775);(0.8934, 7255, 865);\n",
    "# stacking max:\n",
    "(0.8919, 7274, 881)\n",
    "# double stacking:\n",
    "(0.89236408063544004, 7304, 881)"
   ]
  },
  {
   "cell_type": "code",
   "execution_count": 19,
   "metadata": {
    "collapsed": false
   },
   "outputs": [
    {
     "data": {
      "text/plain": [
       "(1.0, 7873.0000000099999, 1e-13)"
      ]
     },
     "execution_count": 19,
     "metadata": {},
     "output_type": "execute_result"
    }
   ],
   "source": [
    "approx_pq(conc_data['y'].astype(int), conc_data['y'].astype(int))[:-1]"
   ]
  },
  {
   "cell_type": "code",
   "execution_count": 31,
   "metadata": {
    "collapsed": false
   },
   "outputs": [
    {
     "data": {
      "text/plain": [
       "(0.83167371436389081, 6097.0000000099999, 1234.0)"
      ]
     },
     "execution_count": 31,
     "metadata": {},
     "output_type": "execute_result"
    }
   ],
   "source": [
    "approx_pq(conc_data['y'].astype(int), conc_data['r.pass'].astype(int))[:-1]"
   ]
  },
  {
   "cell_type": "code",
   "execution_count": 153,
   "metadata": {
    "collapsed": false
   },
   "outputs": [
    {
     "data": {
      "text/plain": [
       "696"
      ]
     },
     "execution_count": 153,
     "metadata": {},
     "output_type": "execute_result"
    }
   ],
   "source": [
    "len(approx_pq(conc_data['y'].astype(int), conc_data['r.pass'].astype(int))[-1][0])"
   ]
  },
  {
   "cell_type": "code",
   "execution_count": 232,
   "metadata": {
    "collapsed": false
   },
   "outputs": [
    {
     "data": {
      "text/plain": [
       "(0.861114237478897, 7651, 1234)"
      ]
     },
     "execution_count": 232,
     "metadata": {},
     "output_type": "execute_result"
    }
   ],
   "source": [
    "approx_pq_dbg(conc_data['y'].astype(int), conc_data['r.pass'].astype(int))[:-1]"
   ]
  },
  {
   "cell_type": "code",
   "execution_count": 233,
   "metadata": {
    "collapsed": false
   },
   "outputs": [],
   "source": [
    "bench_errors = approx_pq(conc_data['y'].astype(int), conc_data['r.pass'].astype(int))[-1][0]"
   ]
  },
  {
   "cell_type": "code",
   "execution_count": 234,
   "metadata": {
    "collapsed": false
   },
   "outputs": [],
   "source": [
    "n_fantoms_and_propusk = len([err[1] for err in bench_errors if err[1] == 1])"
   ]
  },
  {
   "cell_type": "code",
   "execution_count": 235,
   "metadata": {
    "collapsed": false
   },
   "outputs": [
    {
     "data": {
      "text/plain": [
       "165"
      ]
     },
     "execution_count": 235,
     "metadata": {},
     "output_type": "execute_result"
    }
   ],
   "source": [
    "n_fantoms_and_propusk"
   ]
  },
  {
   "cell_type": "code",
   "execution_count": 127,
   "metadata": {
    "collapsed": true
   },
   "outputs": [],
   "source": [
    "bench_errors = approx_pq(conc_data['y'].astype(int), conc_data['res_cor'].astype(int))[-1][0]"
   ]
  },
  {
   "cell_type": "code",
   "execution_count": 128,
   "metadata": {
    "collapsed": false
   },
   "outputs": [],
   "source": [
    "n_fantoms_and_propusk = len([err[1] for err in bench_errors if err[1] == 1])"
   ]
  },
  {
   "cell_type": "code",
   "execution_count": 129,
   "metadata": {
    "collapsed": false
   },
   "outputs": [
    {
     "data": {
      "text/plain": [
       "101"
      ]
     },
     "execution_count": 129,
     "metadata": {},
     "output_type": "execute_result"
    }
   ],
   "source": [
    "n_fantoms_and_propusk"
   ]
  },
  {
   "cell_type": "code",
   "execution_count": 151,
   "metadata": {
    "collapsed": false
   },
   "outputs": [
    {
     "data": {
      "text/plain": [
       "207"
      ]
     },
     "execution_count": 151,
     "metadata": {},
     "output_type": "execute_result"
    }
   ],
   "source": [
    "approx_pq(conc_data['y'].astype(int)[20:], conc_data['res_cor'].astype(int).astype(int)[20:])[-1][-1]"
   ]
  },
  {
   "cell_type": "code",
   "execution_count": null,
   "metadata": {
    "collapsed": true
   },
   "outputs": [],
   "source": []
  }
 ],
 "metadata": {
  "kernelspec": {
   "display_name": "Python 2",
   "language": "python",
   "name": "python2"
  },
  "language_info": {
   "codemirror_mode": {
    "name": "ipython",
    "version": 2
   },
   "file_extension": ".py",
   "mimetype": "text/x-python",
   "name": "python",
   "nbconvert_exporter": "python",
   "pygments_lexer": "ipython2",
   "version": "2.7.11"
  }
 },
 "nbformat": 4,
 "nbformat_minor": 0
}
