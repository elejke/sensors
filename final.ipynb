{
 "cells": [
  {
   "cell_type": "code",
   "execution_count": 1,
   "metadata": {
    "collapsed": false
   },
   "outputs": [
    {
     "name": "stderr",
     "output_type": "stream",
     "text": [
      "WARNING (theano.gof.compilelock): Overriding existing lock by dead process '8181' (I am process '9432')\n",
      "Using gpu device 0: GeForce GTX TITAN X (CNMeM is disabled, cuDNN 4007)\n",
      "Using Theano backend.\n"
     ]
    }
   ],
   "source": [
    "import pandas as pd\n",
    "import numpy as np\n",
    "import itertools\n",
    "import os\n",
    "\n",
    "from theano import function\n",
    "import theano.tensor as tt\n",
    "\n",
    "from utils.data import load_new_data, train_test_split\n",
    "from utils.utils import init_weights, morphological_filter\n",
    "from utils.cv import cv_threshold,cv_fit_model#,cv_build_model\n",
    "from utils.theano_pq import pq_theano_f, pq_theano\n",
    "from utils.pass_quality import approx_pq"
   ]
  },
  {
   "cell_type": "code",
   "execution_count": 2,
   "metadata": {
    "collapsed": false
   },
   "outputs": [],
   "source": [
    "from keras.models import Sequential\n",
    "from keras.layers import Dense, Dropout, LSTM\n",
    "from utils.utils import model_pq, morphological_filter\n",
    "from utils.theano_pq import pq_theano\n",
    "\n",
    "def cv_build_model(X_train):#, metrics=[pq_theano]):\n",
    "    \"\"\"\n",
    "    A function for building Recurrent Neural Network model with\n",
    "    predefined parameters (X_train used because of input_shape\n",
    "    parameter estimation)\n",
    "\n",
    "    :param X_train: training dataset\n",
    "    :return: model: keras neural netwok model\n",
    "    \"\"\"\n",
    "    model = Sequential()\n",
    "    model.add(LSTM(input_dim=X_train.shape[2], output_dim=8, return_sequences=False))\n",
    "    model.add(Dropout(0.5))\n",
    "    model.add(Dense(16, activation='tanh'))\n",
    "    model.add(Dropout(0.5))\n",
    "    model.add(Dense(1, activation='tanh'))\n",
    "\n",
    "    # or with regularized_mse loss\n",
    "    model.compile(optimizer='rmsprop',\n",
    "                  loss='MSE',\n",
    "                #  metrics=metrics\n",
    "                  )\n",
    "\n",
    "    return model"
   ]
  },
  {
   "cell_type": "markdown",
   "metadata": {},
   "source": [
    "# RNN"
   ]
  },
  {
   "cell_type": "code",
   "execution_count": 3,
   "metadata": {
    "collapsed": true
   },
   "outputs": [],
   "source": [
    "conc_data = load_new_data()"
   ]
  },
  {
   "cell_type": "code",
   "execution_count": 4,
   "metadata": {
    "collapsed": true
   },
   "outputs": [],
   "source": [
    "conc_data['shield_morph'] = morphological_filter(conc_data['r.shield'].values, 3)\n",
    "conc_data['con_morph'] = morphological_filter(conc_data['r.cor'].values, 3)"
   ]
  },
  {
   "cell_type": "code",
   "execution_count": 5,
   "metadata": {
    "collapsed": true
   },
   "outputs": [],
   "source": [
    "used_columns = ['r.cor',\n",
    "                 #'con_morph',\n",
    "                 #'r.cor',\n",
    "                 #'shield_morph',\n",
    "                 #'r.pass',\n",
    "                 'y']\n",
    "\n",
    "X_train, X_test, y_train, y_test = train_test_split(conc_data[used_columns], \n",
    "                                                    test_size=0.2,\n",
    "                                                    n_prev=19)"
   ]
  },
  {
   "cell_type": "code",
   "execution_count": 25,
   "metadata": {
    "collapsed": false
   },
   "outputs": [],
   "source": [
    "model = cv_build_model(X_train)"
   ]
  },
  {
   "cell_type": "code",
   "execution_count": 26,
   "metadata": {
    "collapsed": false
   },
   "outputs": [
    {
     "name": "stdout",
     "output_type": "stream",
     "text": [
      "Epoch 11/12\n",
      "Epoch 1/1\n",
      "54996/54996 [==============================] - 1s - loss: 0.1495     \n"
     ]
    }
   ],
   "source": [
    "model = cv_fit_model(model, X_train, y_train, nb_epoch=12, weights=True)"
   ]
  },
  {
   "cell_type": "code",
   "execution_count": 27,
   "metadata": {
    "collapsed": true
   },
   "outputs": [],
   "source": [
    "thres, sm = cv_threshold(X_test, y_test, model, [3])"
   ]
  },
  {
   "cell_type": "code",
   "execution_count": 28,
   "metadata": {
    "collapsed": false
   },
   "outputs": [
    {
     "name": "stdout",
     "output_type": "stream",
     "text": [
      "0.827203191346 3\n"
     ]
    }
   ],
   "source": [
    "print thres, sm"
   ]
  },
  {
   "cell_type": "code",
   "execution_count": 29,
   "metadata": {
    "collapsed": false
   },
   "outputs": [
    {
     "name": "stdout",
     "output_type": "stream",
     "text": [
      "(0.89950980392172253, 5872.0000000099999, 656.0000000000001)\n"
     ]
    }
   ],
   "source": [
    "y_train_pred = (model.predict(X_train) > thres).astype(int).flatten()\n",
    "\n",
    "print approx_pq(y_train, morphological_filter(y_train_pred, sm))[:-1]\n",
    "#print approx_pq(y_train, morphological_filter(y_train_lab, 0))[:-1]"
   ]
  },
  {
   "cell_type": "code",
   "execution_count": 30,
   "metadata": {
    "collapsed": false
   },
   "outputs": [
    {
     "name": "stdout",
     "output_type": "stream",
     "text": [
      "(0.89454763331399312, 1493.0000000099999, 176.0000000000001)\n"
     ]
    }
   ],
   "source": [
    "y_test_pred = (model.predict(X_test) > thres).astype(int).flatten()\n",
    "\n",
    "print approx_pq(y_test, morphological_filter(y_test_pred, sm))[:-1]\n",
    "\n",
    "#print approx_pq(y_test, morphological_filter(y_test_lab, 0))[:-1]"
   ]
  },
  {
   "cell_type": "code",
   "execution_count": 31,
   "metadata": {
    "collapsed": true
   },
   "outputs": [],
   "source": [
    "conc_data[str(used_columns) + str(sm)] = np.concatenate([np.zeros(18), \n",
    "                                                         morphological_filter(y_train_pred, sm).astype(int), \n",
    "                                                         morphological_filter(y_test_pred, sm).astype(int)])"
   ]
  },
  {
   "cell_type": "code",
   "execution_count": 32,
   "metadata": {
    "collapsed": true
   },
   "outputs": [],
   "source": [
    "# approx_pq(conc_data['y'].astype(int), conc_data['r.pass'].astype(int))[:-1]"
   ]
  },
  {
   "cell_type": "code",
   "execution_count": 33,
   "metadata": {
    "collapsed": false
   },
   "outputs": [
    {
     "data": {
      "text/plain": [
       "(0.89828, 7365, 834)"
      ]
     },
     "execution_count": 33,
     "metadata": {},
     "output_type": "execute_result"
    }
   ],
   "source": [
    "a, b, c = approx_pq(conc_data['y'].astype(int), conc_data[str(used_columns) + str(sm)].astype(int))[:-1]\n",
    "\n",
    "(int(a * 100000) / 100000., int(b), int(c))"
   ]
  },
  {
   "cell_type": "markdown",
   "metadata": {},
   "source": [
    "# shield + cor:\n",
    "(0.88366, 7277, 958)\n",
    "# only loop:\n",
    "(0.86061, 6798, 1101);(0.86538, 6840, 1064);(0.87144, 6840, 1009);\n",
    "# only pass:\n",
    "(0.8879, 7077, 893);(0.88153, 7017, 943);(0.88531, 7048, 913);(0.88371, 7075, 931);(0.88371, 7075, 931);(0.87849, 7035, 973);\n",
    "# only shield:\n",
    "(0.87096, 7209, 1068); (0.8744, 7201, 1034);(0.8909, 7147, 875);(0.89305, 7190, 861);\n",
    "(0.89437, 7248, 856); $ fantoms and propusk : 88\n",
    "# only cor:\n",
    "(0.8734, 7246, 1050); (0.8953, 7269, 850);(0.8988, 7320, 824);(0.8909, 7225, 884);(0.8857, 7136, 920);\n",
    "(0.9038, 7287, 775);(0.8934, 7255, 865);"
   ]
  },
  {
   "cell_type": "code",
   "execution_count": 19,
   "metadata": {
    "collapsed": false
   },
   "outputs": [
    {
     "data": {
      "text/plain": [
       "(1.0, 7873.0000000099999, 1e-13)"
      ]
     },
     "execution_count": 19,
     "metadata": {},
     "output_type": "execute_result"
    }
   ],
   "source": [
    "approx_pq(conc_data['y'].astype(int), conc_data['y'].astype(int))[:-1]"
   ]
  },
  {
   "cell_type": "code",
   "execution_count": 77,
   "metadata": {
    "collapsed": false
   },
   "outputs": [
    {
     "data": {
      "text/plain": [
       "(0.84931005006734728, 6955.0000000099999, 1234.0)"
      ]
     },
     "execution_count": 77,
     "metadata": {},
     "output_type": "execute_result"
    }
   ],
   "source": [
    "approx_pq(conc_data['y'].astype(int), conc_data['r.pass'].astype(int))[:-1]"
   ]
  },
  {
   "cell_type": "code",
   "execution_count": 98,
   "metadata": {
    "collapsed": true
   },
   "outputs": [],
   "source": [
    "bench_errors = approx_pq(conc_data['y'].astype(int), conc_data[str(used_columns) + str(sm)].astype(int))[-1][0]"
   ]
  },
  {
   "cell_type": "code",
   "execution_count": 99,
   "metadata": {
    "collapsed": true
   },
   "outputs": [],
   "source": [
    "n_fantoms_and_propusk = len([err[1] for err in bench_errors if err[1] == 1])"
   ]
  },
  {
   "cell_type": "code",
   "execution_count": 100,
   "metadata": {
    "collapsed": false
   },
   "outputs": [
    {
     "data": {
      "text/plain": [
       "242"
      ]
     },
     "execution_count": 100,
     "metadata": {},
     "output_type": "execute_result"
    }
   ],
   "source": [
    "n_fantoms_and_propusk"
   ]
  },
  {
   "cell_type": "code",
   "execution_count": 235,
   "metadata": {
    "collapsed": true
   },
   "outputs": [],
   "source": [
    "res_cor = [(0.8953, 7269, 850),\n",
    "           (0.8988, 7320, 824),\n",
    "           (0.8909, 7225, 884),\n",
    "           (0.8857, 7136, 920),\n",
    "           (0.9038, 7287, 775),\n",
    "           (0.8934, 7255, 865)]"
   ]
  },
  {
   "cell_type": "code",
   "execution_count": 252,
   "metadata": {
    "collapsed": true
   },
   "outputs": [],
   "source": [
    "res_pass = [(0.8879, 7077, 893),\n",
    "            (0.88153, 7017, 943),\n",
    "            (0.88531, 7048, 913),\n",
    "            (0.88371, 7075, 931),\n",
    "            (0.88371, 7075, 931),\n",
    "            (0.87849, 7035, 973)]"
   ]
  },
  {
   "cell_type": "code",
   "execution_count": 259,
   "metadata": {
    "collapsed": true
   },
   "outputs": [],
   "source": [
    "res_shield = [(0.87096, 7209, 1068),\n",
    "              (0.8744, 7201, 1034),\n",
    "              (0.8909, 7147, 875),\n",
    "              (0.89305, 7190, 861),\n",
    "              (0.89437, 7248, 856)]"
   ]
  },
  {
   "cell_type": "code",
   "execution_count": 254,
   "metadata": {
    "collapsed": false
   },
   "outputs": [
    {
     "name": "stdout",
     "output_type": "stream",
     "text": [
      "0.883441666667\n",
      "1763.625\n",
      "232.666666667\n"
     ]
    }
   ],
   "source": [
    "print np.mean([res[0] for res in res_pass])\n",
    "print np.mean([res[1] for res in res_pass]) * 0.25\n",
    "print np.mean([res[2] for res in res_pass]) * 0.25"
   ]
  },
  {
   "cell_type": "code",
   "execution_count": 260,
   "metadata": {
    "collapsed": false
   },
   "outputs": [
    {
     "name": "stdout",
     "output_type": "stream",
     "text": [
      "0.884736\n",
      "1799.75\n",
      "234.7\n"
     ]
    }
   ],
   "source": [
    "print np.mean([res[0] for res in res_shield])\n",
    "print np.mean([res[1] for res in res_shield]) * 0.25\n",
    "print np.mean([res[2] for res in res_shield]) * 0.25"
   ]
  },
  {
   "cell_type": "code",
   "execution_count": 236,
   "metadata": {
    "collapsed": false
   },
   "outputs": [
    {
     "data": {
      "text/plain": [
       "0.89464999999999995"
      ]
     },
     "execution_count": 236,
     "metadata": {},
     "output_type": "execute_result"
    }
   ],
   "source": [
    "np.mean([res[0] for res in res_cor])"
   ]
  },
  {
   "cell_type": "code",
   "execution_count": 245,
   "metadata": {
    "collapsed": false
   },
   "outputs": [
    {
     "data": {
      "text/plain": [
       "1812.1666666666667"
      ]
     },
     "execution_count": 245,
     "metadata": {},
     "output_type": "execute_result"
    }
   ],
   "source": [
    "np.mean([res[1] for res in res_cor]) * 0.25"
   ]
  },
  {
   "cell_type": "code",
   "execution_count": 246,
   "metadata": {
    "collapsed": false
   },
   "outputs": [
    {
     "data": {
      "text/plain": [
       "213.25"
      ]
     },
     "execution_count": 246,
     "metadata": {},
     "output_type": "execute_result"
    }
   ],
   "source": [
    "np.mean([res[2] for res in res_cor]) * 0.25"
   ]
  },
  {
   "cell_type": "code",
   "execution_count": 251,
   "metadata": {
    "collapsed": false
   },
   "outputs": [
    {
     "data": {
      "text/plain": [
       "array([ 1819.25,   239.5 ])"
      ]
     },
     "execution_count": 251,
     "metadata": {},
     "output_type": "execute_result"
    }
   ],
   "source": [
    "np.array((7277, 958)) * 0.25"
   ]
  },
  {
   "cell_type": "code",
   "execution_count": 250,
   "metadata": {
    "collapsed": false
   },
   "outputs": [
    {
     "data": {
      "text/plain": [
       "0.88366"
      ]
     },
     "execution_count": 250,
     "metadata": {},
     "output_type": "execute_result"
    }
   ],
   "source": [
    "0.88366"
   ]
  },
  {
   "cell_type": "code",
   "execution_count": 261,
   "metadata": {
    "collapsed": false
   },
   "outputs": [
    {
     "data": {
      "text/plain": [
       "1819.25"
      ]
     },
     "execution_count": 261,
     "metadata": {},
     "output_type": "execute_result"
    }
   ],
   "source": [
    "7277 * 0.25"
   ]
  },
  {
   "cell_type": "code",
   "execution_count": 262,
   "metadata": {
    "collapsed": false
   },
   "outputs": [
    {
     "data": {
      "text/plain": [
       "239.5"
      ]
     },
     "execution_count": 262,
     "metadata": {},
     "output_type": "execute_result"
    }
   ],
   "source": [
    "958 * 0.25"
   ]
  },
  {
   "cell_type": "code",
   "execution_count": 267,
   "metadata": {
    "collapsed": false
   },
   "outputs": [
    {
     "data": {
      "text/plain": [
       "0.8836587972408433"
      ]
     },
     "execution_count": 267,
     "metadata": {},
     "output_type": "execute_result"
    }
   ],
   "source": [
    "1819.1 / (239.5 + 1819.1)"
   ]
  },
  {
   "cell_type": "code",
   "execution_count": 266,
   "metadata": {
    "collapsed": false
   },
   "outputs": [
    {
     "data": {
      "text/plain": [
       "0.8714485921773474"
      ]
     },
     "execution_count": 266,
     "metadata": {},
     "output_type": "execute_result"
    }
   ],
   "source": [
    "6840 / (6840. + 1009)"
   ]
  },
  {
   "cell_type": "code",
   "execution_count": 44,
   "metadata": {
    "collapsed": false
   },
   "outputs": [],
   "source": [
    "for i in conc_data.loc['M1-177_15_post_right_20150125191417_pass_sens.ldj'].iterrows():\n",
    "    a = i"
   ]
  },
  {
   "cell_type": "code",
   "execution_count": null,
   "metadata": {
    "collapsed": true
   },
   "outputs": [],
   "source": [
    "for (dirpath, dirnames, filenames) in os.walk('data/final_data/sensors_logs_correct_selected/'):\n",
    "    for filename in filenames:\n",
    "        sensors_log_name = os.path.join(args.input_folder, filename)\n",
    "        if filename.find('left') > 0:\n",
    "            side = 'left'\n",
    "        elif filename.find('right') > 0:\n",
    "            side = 'right'\n",
    "        with open(sensors_log_name, 'r') as f:\n",
    "            pass_state = False\n",
    "            exp_pass = False\n",
    "            ref_pass = False\n",
    "            exp_group_pass_cnt = 0\n",
    "            ref_group_pass_cnt = 0\n",
    "\n",
    "            for line in conc_data.loc['M1-177_15_post_right_20150125191417_pass_sens.ldj'].iterrows():\n",
    "                "
   ]
  },
  {
   "cell_type": "code",
   "execution_count": 67,
   "metadata": {
    "collapsed": false
   },
   "outputs": [
    {
     "name": "stdout",
     "output_type": "stream",
     "text": [
      "M1-69_17_post_right_20150129183055u_pass_sens.ldj\n"
     ]
    },
    {
     "ename": "KeyError",
     "evalue": "'the label [M1-69_17_post_right_20150129183055u_pass_sens.ldj] is not in the [index]'",
     "output_type": "error",
     "traceback": [
      "\u001b[1;31m\u001b[0m",
      "\u001b[1;31mKeyError\u001b[0mTraceback (most recent call last)",
      "\u001b[1;32m<ipython-input-67-1f7988cfa548>\u001b[0m in \u001b[0;36m<module>\u001b[1;34m()\u001b[0m\n\u001b[0;32m     16\u001b[0m             \u001b[0mref_group_pass_cnt\u001b[0m \u001b[1;33m=\u001b[0m \u001b[1;36m0\u001b[0m\u001b[1;33m\u001b[0m\u001b[0m\n\u001b[0;32m     17\u001b[0m             \u001b[1;32mprint\u001b[0m \u001b[0mfilename\u001b[0m\u001b[1;33m\u001b[0m\u001b[0m\n\u001b[1;32m---> 18\u001b[1;33m             \u001b[1;32mfor\u001b[0m \u001b[0mline\u001b[0m \u001b[1;32min\u001b[0m \u001b[0mconc_data\u001b[0m\u001b[1;33m.\u001b[0m\u001b[0mloc\u001b[0m\u001b[1;33m[\u001b[0m\u001b[0mfilename\u001b[0m\u001b[1;33m]\u001b[0m\u001b[1;33m.\u001b[0m\u001b[0miterrows\u001b[0m\u001b[1;33m(\u001b[0m\u001b[1;33m)\u001b[0m\u001b[1;33m:\u001b[0m\u001b[1;33m\u001b[0m\u001b[0m\n\u001b[0m\u001b[0;32m     19\u001b[0m                 \u001b[1;31m#j = json.loads(line.split('\\n')[0])\u001b[0m\u001b[1;33m\u001b[0m\u001b[1;33m\u001b[0m\u001b[0m\n\u001b[0;32m     20\u001b[0m                 \u001b[0mj\u001b[0m \u001b[1;33m=\u001b[0m \u001b[0mline\u001b[0m\u001b[1;33m[\u001b[0m\u001b[1;33m-\u001b[0m\u001b[1;36m1\u001b[0m\u001b[1;33m]\u001b[0m\u001b[1;33m\u001b[0m\u001b[0m\n",
      "\u001b[1;32m/home/novikov/Documents/anaconda2/envs/vovacher/lib/python2.7/site-packages/pandas/core/indexing.pyc\u001b[0m in \u001b[0;36m__getitem__\u001b[1;34m(self, key)\u001b[0m\n\u001b[0;32m   1294\u001b[0m             \u001b[1;32mreturn\u001b[0m \u001b[0mself\u001b[0m\u001b[1;33m.\u001b[0m\u001b[0m_getitem_tuple\u001b[0m\u001b[1;33m(\u001b[0m\u001b[0mkey\u001b[0m\u001b[1;33m)\u001b[0m\u001b[1;33m\u001b[0m\u001b[0m\n\u001b[0;32m   1295\u001b[0m         \u001b[1;32melse\u001b[0m\u001b[1;33m:\u001b[0m\u001b[1;33m\u001b[0m\u001b[0m\n\u001b[1;32m-> 1296\u001b[1;33m             \u001b[1;32mreturn\u001b[0m \u001b[0mself\u001b[0m\u001b[1;33m.\u001b[0m\u001b[0m_getitem_axis\u001b[0m\u001b[1;33m(\u001b[0m\u001b[0mkey\u001b[0m\u001b[1;33m,\u001b[0m \u001b[0maxis\u001b[0m\u001b[1;33m=\u001b[0m\u001b[1;36m0\u001b[0m\u001b[1;33m)\u001b[0m\u001b[1;33m\u001b[0m\u001b[0m\n\u001b[0m\u001b[0;32m   1297\u001b[0m \u001b[1;33m\u001b[0m\u001b[0m\n\u001b[0;32m   1298\u001b[0m     \u001b[1;32mdef\u001b[0m \u001b[0m_getitem_axis\u001b[0m\u001b[1;33m(\u001b[0m\u001b[0mself\u001b[0m\u001b[1;33m,\u001b[0m \u001b[0mkey\u001b[0m\u001b[1;33m,\u001b[0m \u001b[0maxis\u001b[0m\u001b[1;33m=\u001b[0m\u001b[1;36m0\u001b[0m\u001b[1;33m)\u001b[0m\u001b[1;33m:\u001b[0m\u001b[1;33m\u001b[0m\u001b[0m\n",
      "\u001b[1;32m/home/novikov/Documents/anaconda2/envs/vovacher/lib/python2.7/site-packages/pandas/core/indexing.pyc\u001b[0m in \u001b[0;36m_getitem_axis\u001b[1;34m(self, key, axis)\u001b[0m\n\u001b[0;32m   1464\u001b[0m \u001b[1;33m\u001b[0m\u001b[0m\n\u001b[0;32m   1465\u001b[0m         \u001b[1;31m# fall thru to straight lookup\u001b[0m\u001b[1;33m\u001b[0m\u001b[1;33m\u001b[0m\u001b[0m\n\u001b[1;32m-> 1466\u001b[1;33m         \u001b[0mself\u001b[0m\u001b[1;33m.\u001b[0m\u001b[0m_has_valid_type\u001b[0m\u001b[1;33m(\u001b[0m\u001b[0mkey\u001b[0m\u001b[1;33m,\u001b[0m \u001b[0maxis\u001b[0m\u001b[1;33m)\u001b[0m\u001b[1;33m\u001b[0m\u001b[0m\n\u001b[0m\u001b[0;32m   1467\u001b[0m         \u001b[1;32mreturn\u001b[0m \u001b[0mself\u001b[0m\u001b[1;33m.\u001b[0m\u001b[0m_get_label\u001b[0m\u001b[1;33m(\u001b[0m\u001b[0mkey\u001b[0m\u001b[1;33m,\u001b[0m \u001b[0maxis\u001b[0m\u001b[1;33m=\u001b[0m\u001b[0maxis\u001b[0m\u001b[1;33m)\u001b[0m\u001b[1;33m\u001b[0m\u001b[0m\n\u001b[0;32m   1468\u001b[0m \u001b[1;33m\u001b[0m\u001b[0m\n",
      "\u001b[1;32m/home/novikov/Documents/anaconda2/envs/vovacher/lib/python2.7/site-packages/pandas/core/indexing.pyc\u001b[0m in \u001b[0;36m_has_valid_type\u001b[1;34m(self, key, axis)\u001b[0m\n\u001b[0;32m   1401\u001b[0m                 \u001b[1;32mraise\u001b[0m\u001b[1;33m\u001b[0m\u001b[0m\n\u001b[0;32m   1402\u001b[0m             \u001b[1;32mexcept\u001b[0m\u001b[1;33m:\u001b[0m\u001b[1;33m\u001b[0m\u001b[0m\n\u001b[1;32m-> 1403\u001b[1;33m                 \u001b[0merror\u001b[0m\u001b[1;33m(\u001b[0m\u001b[1;33m)\u001b[0m\u001b[1;33m\u001b[0m\u001b[0m\n\u001b[0m\u001b[0;32m   1404\u001b[0m \u001b[1;33m\u001b[0m\u001b[0m\n\u001b[0;32m   1405\u001b[0m         \u001b[1;32mreturn\u001b[0m \u001b[0mTrue\u001b[0m\u001b[1;33m\u001b[0m\u001b[0m\n",
      "\u001b[1;32m/home/novikov/Documents/anaconda2/envs/vovacher/lib/python2.7/site-packages/pandas/core/indexing.pyc\u001b[0m in \u001b[0;36merror\u001b[1;34m()\u001b[0m\n\u001b[0;32m   1388\u001b[0m                                     \"key\")\n\u001b[0;32m   1389\u001b[0m                 raise KeyError(\"the label [%s] is not in the [%s]\" %\n\u001b[1;32m-> 1390\u001b[1;33m                                (key, self.obj._get_axis_name(axis)))\n\u001b[0m\u001b[0;32m   1391\u001b[0m \u001b[1;33m\u001b[0m\u001b[0m\n\u001b[0;32m   1392\u001b[0m             \u001b[1;32mtry\u001b[0m\u001b[1;33m:\u001b[0m\u001b[1;33m\u001b[0m\u001b[0m\n",
      "\u001b[1;31mKeyError\u001b[0m: 'the label [M1-69_17_post_right_20150129183055u_pass_sens.ldj] is not in the [index]'"
     ]
    }
   ],
   "source": [
    "correct = 0\n",
    "fine = 0\n",
    "\n",
    "for (dirpath, dirnames, filenames) in os.walk('data/final_data/sensors_logs_correct_selected/'):\n",
    "    for filename in filenames:\n",
    "        sensors_log_name = os.path.join('data/final_data/sensors_logs_correct_selected/', filename)\n",
    "        if filename.find('left') > 0:\n",
    "            side = 'left'\n",
    "        elif filename.find('right') > 0:\n",
    "            side = 'right'\n",
    "        with open(sensors_log_name, 'r') as f:\n",
    "            pass_state = 0\n",
    "            exp_pass = 0\n",
    "            ref_pass = 0\n",
    "            exp_group_pass_cnt = 0\n",
    "            ref_group_pass_cnt = 0\n",
    "            print filename\n",
    "            for line in conc_data.loc[filename].iterrows():\n",
    "                #j = json.loads(line.split('\\n')[0])\n",
    "                j = line[-1]\n",
    "                if 1:#j['sensors'][side] != None:\n",
    "                    if exp_pass != j['r.pass']:\n",
    "                        exp_pass = j['r.pass']\n",
    "                        if exp_pass:\n",
    "                            exp_group_pass_cnt += 1\n",
    "                    if ref_pass != j['y']:\n",
    "                        ref_pass = j['y']\n",
    "                        if ref_pass:\n",
    "                            ref_group_pass_cnt += 1\n",
    "\n",
    "                    if not pass_state:\n",
    "                        if exp_pass or ref_pass:\n",
    "                            pass_state = 1\n",
    "                    else:\n",
    "                        if not exp_pass and not ref_pass:\n",
    "                            if exp_group_pass_cnt == 1 and ref_group_pass_cnt == 1:\n",
    "                                correct += 1\n",
    "                                fine += 0\n",
    "                            else:\n",
    "                                correct += 0\n",
    "                                fine += max(exp_group_pass_cnt, ref_group_pass_cnt)\n",
    "                                # print filename\n",
    "                            ref_group_pass_cnt = 0\n",
    "                            exp_group_pass_cnt = 0\n",
    "                            pass_state = 0\n",
    "                    # print '{} pass_state={}, ref_pass={}, exp_pass={}'.format(j['frame'], pass_state, ref_pass, exp_pass)\n",
    "\n",
    "print 'correct passes:', correct, '\\nfine:', fine\n",
    "res = 100.0 * correct / (correct + fine)\n",
    "print 'pass quality:', res"
   ]
  },
  {
   "cell_type": "code",
   "execution_count": null,
   "metadata": {
    "collapsed": true
   },
   "outputs": [],
   "source": []
  }
 ],
 "metadata": {
  "kernelspec": {
   "display_name": "Python 2",
   "language": "python",
   "name": "python2"
  },
  "language_info": {
   "codemirror_mode": {
    "name": "ipython",
    "version": 2
   },
   "file_extension": ".py",
   "mimetype": "text/x-python",
   "name": "python",
   "nbconvert_exporter": "python",
   "pygments_lexer": "ipython2",
   "version": "2.7.11"
  }
 },
 "nbformat": 4,
 "nbformat_minor": 0
}
