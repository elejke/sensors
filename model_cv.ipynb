{
 "cells": [
  {
   "cell_type": "code",
   "execution_count": 37,
   "metadata": {
    "collapsed": true
   },
   "outputs": [],
   "source": [
    "import numpy as np"
   ]
  },
  {
   "cell_type": "code",
   "execution_count": 2,
   "metadata": {
    "collapsed": false
   },
   "outputs": [
    {
     "name": "stderr",
     "output_type": "stream",
     "text": [
      "Using gpu device 0: GeForce GTX TITAN X (CNMeM is disabled, CuDNN 4007)\n",
      "Using Theano backend.\n",
      "/home/novikov/Documents/anaconda2/lib/python2.7/site-packages/theano/tensor/signal/downsample.py:6: UserWarning: downsample module has been moved to the theano.tensor.signal.pool module.\n",
      "  \"downsample module has been moved to the theano.tensor.signal.pool module.\")\n"
     ]
    }
   ],
   "source": [
    "from utils.data import cv_prepare_data, train_test_split\n",
    "from utils.cv import *\n",
    "from utils.pass_quality import approx_pq"
   ]
  },
  {
   "cell_type": "markdown",
   "metadata": {},
   "source": [
    "# cross validation"
   ]
  },
  {
   "cell_type": "code",
   "execution_count": 20,
   "metadata": {
    "collapsed": false
   },
   "outputs": [
    {
     "name": "stdout",
     "output_type": "stream",
     "text": [
      "choosing threshold...\n",
      "validation...\n"
     ]
    }
   ],
   "source": [
    "n_experiments = 10\n",
    "\n",
    "results = []\n",
    "\n",
    "for i in range(n_experiments):\n",
    "    print 'loading data...'\n",
    "    data = cv_prepare_data()\n",
    "    \n",
    "    print 'splitting_data...'\n",
    "    X_train, X_test, y_train, y_test, y_train_lab, y_test_lab = train_test_split(data, test_size=0.2, n_prev=15)\n",
    "    \n",
    "    print 'building a model...'\n",
    "    model = cv_build_model(X_train)\n",
    "    \n",
    "    \n",
    "    print 'fitting the model...'\n",
    "    model = cv_fit_model(model, X_train, y_train, nb_epoch=20, weights=True)\n",
    "    \n",
    "    print 'choosing threshold...'\n",
    "    threshold = cv_threshold(X_train, y_train, model)\n",
    "    \n",
    "    print 'validation...'\n",
    "    y_train_pred = cv_predict(model, X_train, y_train, threshold)\n",
    "    y_test_pred = cv_predict(model, X_test, y_test, threshold)\n",
    "\n",
    "    pq_test = approx_pq(y_test, y_test_pred)\n",
    "    pq_train = approx_pq(y_train, y_train_pred)\n",
    "    \n",
    "    results.append(\n",
    "        {'exp_id' : i,\n",
    "         'data' : data,\n",
    "         'y_train' : y_train, \n",
    "         'y_test' : y_test, \n",
    "         'y_train_lab' : y_train_lab,\n",
    "         'y_test_lab' : y_test_lab,\n",
    "         'y_train_pred' : y_train_pred,\n",
    "         'y_test_pred' : y_test_pred,\n",
    "         'threshold' : threshold,\n",
    "         'pq_test' : pq_test,\n",
    "         'pq_train' : pq_train,\n",
    "         'model' : model,\n",
    "        }\n",
    "    )\n",
    "    clear_output(wait=True)"
   ]
  },
  {
   "cell_type": "code",
   "execution_count": 41,
   "metadata": {
    "collapsed": false
   },
   "outputs": [
    {
     "data": {
      "text/plain": [
       "(0.88541291646570852, 0.036887644906313563)"
      ]
     },
     "execution_count": 41,
     "metadata": {},
     "output_type": "execute_result"
    }
   ],
   "source": [
    "np.mean([res['pq_test'][0] for res in results]), np.std([res['pq_test'][0] for res in results])"
   ]
  },
  {
   "cell_type": "code",
   "execution_count": 42,
   "metadata": {
    "collapsed": false
   },
   "outputs": [
    {
     "data": {
      "text/plain": [
       "(0.88723492595422027, 0.0090353364060408257)"
      ]
     },
     "execution_count": 42,
     "metadata": {},
     "output_type": "execute_result"
    }
   ],
   "source": [
    "np.mean([res['pq_train'][0] for res in results]), np.std([res['pq_train'][0] for res in results])"
   ]
  },
  {
   "cell_type": "code",
   "execution_count": null,
   "metadata": {
    "collapsed": true
   },
   "outputs": [],
   "source": []
  }
 ],
 "metadata": {
  "kernelspec": {
   "display_name": "Python 2",
   "language": "python",
   "name": "python2"
  },
  "language_info": {
   "codemirror_mode": {
    "name": "ipython",
    "version": 2
   },
   "file_extension": ".py",
   "mimetype": "text/x-python",
   "name": "python",
   "nbconvert_exporter": "python",
   "pygments_lexer": "ipython2",
   "version": "2.7.11"
  }
 },
 "nbformat": 4,
 "nbformat_minor": 0
}
