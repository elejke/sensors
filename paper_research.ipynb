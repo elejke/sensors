{
 "cells": [
  {
   "cell_type": "code",
   "execution_count": 1,
   "metadata": {
    "collapsed": true
   },
   "outputs": [],
   "source": [
    "%matplotlib inline\n",
    "from IPython.display import clear_output"
   ]
  },
  {
   "cell_type": "code",
   "execution_count": 2,
   "metadata": {
    "collapsed": false
   },
   "outputs": [
    {
     "name": "stderr",
     "output_type": "stream",
     "text": [
      "Using Theano backend.\n",
      "Using gpu device 0: GeForce GTX TITAN X (CNMeM is disabled, cuDNN 4007)\n"
     ]
    }
   ],
   "source": [
    "import numpy as np\n",
    "import pylab as plt\n",
    "\n",
    "from xgboost import XGBClassifier\n",
    "from utils.data import load_data\n",
    "from utils.pass_quality import pass_quality\n",
    "from sklearn.cross_validation import train_test_split\n",
    "from sklearn.linear_model import LogisticRegression\n",
    "from sklearn.svm import SVC\n",
    "\n",
    "from keras.models import Sequential\n",
    "from keras.layers import LSTM, Dense, Dropout, Activation, GRU, SimpleRNN"
   ]
  },
  {
   "cell_type": "code",
   "execution_count": 3,
   "metadata": {
    "collapsed": true
   },
   "outputs": [],
   "source": [
    "def nn_model(X_train):\n",
    "    model = Sequential()\n",
    "    #model.add(InputLayer(input_shape=))\n",
    "    model.add(Dense(12, activation='sigmoid', input_dim=X_train.shape[1]))\n",
    "    model.add(Dense(1, activation='sigmoid'))\n",
    "    \n",
    "    model.compile(optimizer='rmsprop',\n",
    "                  loss='MSE')\n",
    "                #  metrics=['accuracy'])\n",
    "    return model"
   ]
  },
  {
   "cell_type": "markdown",
   "metadata": {},
   "source": [
    "# default classifiers like XGBoost, Logistic Regression"
   ]
  },
  {
   "cell_type": "code",
   "execution_count": 5,
   "metadata": {
    "collapsed": true
   },
   "outputs": [],
   "source": [
    "errors = []\n",
    "\n",
    "for iteration in range(10):\n",
    "    data = load_data()\n",
    "    X, y = data[['cor', 'loop', 'shield']].values, data['y'].values\n",
    "    X_train, X_test, y_train, y_test = train_test_split(X, y)\n",
    "\n",
    "    #xgb = XGBClassifier()\n",
    "    lr = LogisticRegression()\n",
    "    #nn = nn_model(X_train)\n",
    "\n",
    "    #xgb.fit(X_train, y_train)\n",
    "    lr.fit(X_train, y_train)\n",
    "    #nn.fit(X_train, y_train, nb_epoch=4, verbose=False)\n",
    "\n",
    "    #y_pred_xgb = xgb.predict(X_test)\n",
    "    y_pred_lr = lr.predict(X_test)\n",
    "    #y_pred_nn = (nn.predict(X_test) > 0.5).astype(int).flatten()\n",
    "    errors.append(pass_quality(y_test, y_pred_lr))"
   ]
  },
  {
   "cell_type": "code",
   "execution_count": 14,
   "metadata": {
    "collapsed": false
   },
   "outputs": [
    {
     "name": "stdout",
     "output_type": "stream",
     "text": [
      "45.3934665197\n",
      "2604.85\n"
     ]
    },
    {
     "ename": "IndexError",
     "evalue": "index 2 is out of bounds for axis 0 with size 2",
     "output_type": "error",
     "traceback": [
      "\u001b[1;31m\u001b[0m",
      "\u001b[1;31mIndexError\u001b[0mTraceback (most recent call last)",
      "\u001b[1;32m<ipython-input-14-9d1a35b10782>\u001b[0m in \u001b[0;36m<module>\u001b[1;34m()\u001b[0m\n\u001b[0;32m      3\u001b[0m \u001b[1;32mprint\u001b[0m \u001b[1;33m(\u001b[0m\u001b[0mnp\u001b[0m\u001b[1;33m.\u001b[0m\u001b[0mmean\u001b[0m\u001b[1;33m(\u001b[0m\u001b[0mnp\u001b[0m\u001b[1;33m.\u001b[0m\u001b[0mmatrix\u001b[0m\u001b[1;33m(\u001b[0m\u001b[0merrors\u001b[0m\u001b[1;33m)\u001b[0m\u001b[1;33m.\u001b[0m\u001b[0mT\u001b[0m\u001b[1;33m[\u001b[0m\u001b[1;36m1\u001b[0m\u001b[1;33m]\u001b[0m\u001b[1;33m)\u001b[0m \u001b[1;33m+\u001b[0m \u001b[0mnp\u001b[0m\u001b[1;33m.\u001b[0m\u001b[0mmax\u001b[0m\u001b[1;33m(\u001b[0m\u001b[0mnp\u001b[0m\u001b[1;33m.\u001b[0m\u001b[0mmatrix\u001b[0m\u001b[1;33m(\u001b[0m\u001b[0merrors\u001b[0m\u001b[1;33m)\u001b[0m\u001b[1;33m.\u001b[0m\u001b[0mT\u001b[0m\u001b[1;33m[\u001b[0m\u001b[1;36m1\u001b[0m\u001b[1;33m]\u001b[0m\u001b[1;33m)\u001b[0m\u001b[1;33m)\u001b[0m \u001b[1;33m/\u001b[0m \u001b[1;36m2\u001b[0m\u001b[1;33m\u001b[0m\u001b[0m\n\u001b[0;32m      4\u001b[0m \u001b[1;33m\u001b[0m\u001b[0m\n\u001b[1;32m----> 5\u001b[1;33m \u001b[1;32mprint\u001b[0m \u001b[1;33m(\u001b[0m\u001b[0mnp\u001b[0m\u001b[1;33m.\u001b[0m\u001b[0mmean\u001b[0m\u001b[1;33m(\u001b[0m\u001b[0mnp\u001b[0m\u001b[1;33m.\u001b[0m\u001b[0mmatrix\u001b[0m\u001b[1;33m(\u001b[0m\u001b[0merrors\u001b[0m\u001b[1;33m)\u001b[0m\u001b[1;33m.\u001b[0m\u001b[0mT\u001b[0m\u001b[1;33m[\u001b[0m\u001b[1;36m2\u001b[0m\u001b[1;33m]\u001b[0m\u001b[1;33m)\u001b[0m \u001b[1;33m+\u001b[0m \u001b[0mnp\u001b[0m\u001b[1;33m.\u001b[0m\u001b[0mmax\u001b[0m\u001b[1;33m(\u001b[0m\u001b[0mnp\u001b[0m\u001b[1;33m.\u001b[0m\u001b[0mmatrix\u001b[0m\u001b[1;33m(\u001b[0m\u001b[0merrors\u001b[0m\u001b[1;33m)\u001b[0m\u001b[1;33m.\u001b[0m\u001b[0mT\u001b[0m\u001b[1;33m[\u001b[0m\u001b[1;36m2\u001b[0m\u001b[1;33m]\u001b[0m\u001b[1;33m)\u001b[0m\u001b[1;33m)\u001b[0m \u001b[1;33m/\u001b[0m \u001b[1;36m2\u001b[0m\u001b[1;33m\u001b[0m\u001b[0m\n\u001b[0m",
      "\u001b[1;32m/home/novikov/Documents/anaconda2/envs/vovacher/lib/python2.7/site-packages/numpy/matrixlib/defmatrix.pyc\u001b[0m in \u001b[0;36m__getitem__\u001b[1;34m(self, index)\u001b[0m\n\u001b[0;32m    316\u001b[0m \u001b[1;33m\u001b[0m\u001b[0m\n\u001b[0;32m    317\u001b[0m         \u001b[1;32mtry\u001b[0m\u001b[1;33m:\u001b[0m\u001b[1;33m\u001b[0m\u001b[0m\n\u001b[1;32m--> 318\u001b[1;33m             \u001b[0mout\u001b[0m \u001b[1;33m=\u001b[0m \u001b[0mN\u001b[0m\u001b[1;33m.\u001b[0m\u001b[0mndarray\u001b[0m\u001b[1;33m.\u001b[0m\u001b[0m__getitem__\u001b[0m\u001b[1;33m(\u001b[0m\u001b[0mself\u001b[0m\u001b[1;33m,\u001b[0m \u001b[0mindex\u001b[0m\u001b[1;33m)\u001b[0m\u001b[1;33m\u001b[0m\u001b[0m\n\u001b[0m\u001b[0;32m    319\u001b[0m         \u001b[1;32mfinally\u001b[0m\u001b[1;33m:\u001b[0m\u001b[1;33m\u001b[0m\u001b[0m\n\u001b[0;32m    320\u001b[0m             \u001b[0mself\u001b[0m\u001b[1;33m.\u001b[0m\u001b[0m_getitem\u001b[0m \u001b[1;33m=\u001b[0m \u001b[0mFalse\u001b[0m\u001b[1;33m\u001b[0m\u001b[0m\n",
      "\u001b[1;31mIndexError\u001b[0m: index 2 is out of bounds for axis 0 with size 2"
     ]
    }
   ],
   "source": [
    "print (np.mean(np.matrix(errors).T[0]) + np.max(np.matrix(errors).T[0])) / 2\n",
    "\n",
    "print (np.mean(np.matrix(errors).T[1]) + np.max(np.matrix(errors).T[1])) / 2\n",
    "\n",
    "print (np.mean(np.matrix(errors).T[2]) + np.max(np.matrix(errors).T[2])) / 2"
   ]
  },
  {
   "cell_type": "markdown",
   "metadata": {},
   "source": [
    "# data augmentation"
   ]
  },
  {
   "cell_type": "code",
   "execution_count": 7,
   "metadata": {
    "collapsed": true
   },
   "outputs": [],
   "source": [
    "def dim_extend(X, y, n_prev = 3):\n",
    "    \"\"\"\"\"\"\n",
    "    X_ext, y_ext = [], []\n",
    "    \n",
    "    for i in range(len(X) - n_prev + 1):\n",
    "        X_ext.append(np.concatenate([X[i+j] for j in range(n_prev)]))\n",
    "        y_ext.append(y[i + n_prev - 1])\n",
    "        #docY_lab.append(y_lab[i + n_prev -1])\n",
    "    X_ext = np.array(X_ext)\n",
    "    y_ext = np.array(y_ext)\n",
    "    #alsY_lab = np.array(docY_lab)\n",
    "    return X_ext, y_ext#, alsY_lab"
   ]
  },
  {
   "cell_type": "markdown",
   "metadata": {},
   "source": [
    "# xgb model"
   ]
  },
  {
   "cell_type": "code",
   "execution_count": 10,
   "metadata": {
    "collapsed": false
   },
   "outputs": [
    {
     "name": "stdout",
     "output_type": "stream",
     "text": [
      "computing for  24\n"
     ]
    }
   ],
   "source": [
    "errors_xgb = []\n",
    "\n",
    "for n_prev in range(3, 25):\n",
    "    print \"computing for \", n_prev\n",
    "    clear_output(wait=True)\n",
    "    X_e, y_e = dim_extend(X, y, n_prev)\n",
    "    X_train_e, X_test_e = X_e[:int(len(X_e) * 0.75)], X_e[int(len(X_e) * 0.75):]\n",
    "    y_train_e, y_test_e = y_e[:int(len(y_e) * 0.75)], y_e[int(len(y_e) * 0.75):]\n",
    "    xgb = XGBClassifier()\n",
    "    xgb.fit(X_train_e, y_train_e)\n",
    "    y_pred_e = xgb.predict(X_test_e)\n",
    "    errors_xgb.append(pass_quality(y_test_e, y_pred_e))"
   ]
  },
  {
   "cell_type": "code",
   "execution_count": 11,
   "metadata": {
    "collapsed": false
   },
   "outputs": [
    {
     "name": "stdout",
     "output_type": "stream",
     "text": [
      "80.0980392157\n",
      "1655.0\n",
      "611.0\n"
     ]
    }
   ],
   "source": [
    "print (np.max(np.matrix(errors_xgb).T[0]))\n",
    "\n",
    "print (np.max(np.matrix(errors_xgb).T[1]))\n",
    "#print np.max(np.matrix(errors_nn).T[1])\n",
    "\n",
    "print (np.max(np.matrix(errors_xgb).T[2]))\n",
    "#print np.max(np.matrix(errors_nn).T[2])"
   ]
  },
  {
   "cell_type": "markdown",
   "metadata": {},
   "source": [
    "# logreg model"
   ]
  },
  {
   "cell_type": "code",
   "execution_count": 13,
   "metadata": {
    "collapsed": false
   },
   "outputs": [
    {
     "name": "stdout",
     "output_type": "stream",
     "text": [
      "computing for  29\n"
     ]
    }
   ],
   "source": [
    "errors_lr = []\n",
    "\n",
    "for n_prev in range(3, 30):\n",
    "    print \"computing for \", n_prev\n",
    "    clear_output(wait=True)\n",
    "    X_e, y_e = dim_extend(X, y, n_prev)\n",
    "    X_train_e, X_test_e = X_e[:int(len(X_e) * 0.75)], X_e[int(len(X_e) * 0.75):]\n",
    "    y_train_e, y_test_e = y_e[:int(len(y_e) * 0.75)], y_e[int(len(y_e) * 0.75):]\n",
    "    lr = LogisticRegression()\n",
    "    lr.fit(X_train_e, y_train_e)\n",
    "    y_pred_e = lr.predict(X_test_e)\n",
    "    errors_lr.append(pass_quality(y_test_e, y_pred_e))"
   ]
  },
  {
   "cell_type": "code",
   "execution_count": 15,
   "metadata": {
    "collapsed": false
   },
   "outputs": [
    {
     "name": "stdout",
     "output_type": "stream",
     "text": [
      "76.51444548\n",
      "1642.0\n"
     ]
    },
    {
     "ename": "IndexError",
     "evalue": "index 2 is out of bounds for axis 0 with size 2",
     "output_type": "error",
     "traceback": [
      "\u001b[1;31m\u001b[0m",
      "\u001b[1;31mIndexError\u001b[0mTraceback (most recent call last)",
      "\u001b[1;32m<ipython-input-15-2997c7673fbe>\u001b[0m in \u001b[0;36m<module>\u001b[1;34m()\u001b[0m\n\u001b[0;32m      4\u001b[0m \u001b[1;31m#print np.max(np.matrix(errors_nn).T[1])\u001b[0m\u001b[1;33m\u001b[0m\u001b[1;33m\u001b[0m\u001b[0m\n\u001b[0;32m      5\u001b[0m \u001b[1;33m\u001b[0m\u001b[0m\n\u001b[1;32m----> 6\u001b[1;33m \u001b[1;32mprint\u001b[0m \u001b[1;33m(\u001b[0m\u001b[0mnp\u001b[0m\u001b[1;33m.\u001b[0m\u001b[0mmax\u001b[0m\u001b[1;33m(\u001b[0m\u001b[0mnp\u001b[0m\u001b[1;33m.\u001b[0m\u001b[0mmatrix\u001b[0m\u001b[1;33m(\u001b[0m\u001b[0merrors_lr\u001b[0m\u001b[1;33m)\u001b[0m\u001b[1;33m.\u001b[0m\u001b[0mT\u001b[0m\u001b[1;33m[\u001b[0m\u001b[1;36m2\u001b[0m\u001b[1;33m]\u001b[0m\u001b[1;33m)\u001b[0m\u001b[1;33m)\u001b[0m\u001b[1;33m\u001b[0m\u001b[0m\n\u001b[0m\u001b[0;32m      7\u001b[0m \u001b[1;31m#print np.max(np.matrix(errors_nn).T[2])\u001b[0m\u001b[1;33m\u001b[0m\u001b[1;33m\u001b[0m\u001b[0m\n",
      "\u001b[1;32m/home/novikov/Documents/anaconda2/envs/vovacher/lib/python2.7/site-packages/numpy/matrixlib/defmatrix.pyc\u001b[0m in \u001b[0;36m__getitem__\u001b[1;34m(self, index)\u001b[0m\n\u001b[0;32m    316\u001b[0m \u001b[1;33m\u001b[0m\u001b[0m\n\u001b[0;32m    317\u001b[0m         \u001b[1;32mtry\u001b[0m\u001b[1;33m:\u001b[0m\u001b[1;33m\u001b[0m\u001b[0m\n\u001b[1;32m--> 318\u001b[1;33m             \u001b[0mout\u001b[0m \u001b[1;33m=\u001b[0m \u001b[0mN\u001b[0m\u001b[1;33m.\u001b[0m\u001b[0mndarray\u001b[0m\u001b[1;33m.\u001b[0m\u001b[0m__getitem__\u001b[0m\u001b[1;33m(\u001b[0m\u001b[0mself\u001b[0m\u001b[1;33m,\u001b[0m \u001b[0mindex\u001b[0m\u001b[1;33m)\u001b[0m\u001b[1;33m\u001b[0m\u001b[0m\n\u001b[0m\u001b[0;32m    319\u001b[0m         \u001b[1;32mfinally\u001b[0m\u001b[1;33m:\u001b[0m\u001b[1;33m\u001b[0m\u001b[0m\n\u001b[0;32m    320\u001b[0m             \u001b[0mself\u001b[0m\u001b[1;33m.\u001b[0m\u001b[0m_getitem\u001b[0m \u001b[1;33m=\u001b[0m \u001b[0mFalse\u001b[0m\u001b[1;33m\u001b[0m\u001b[0m\n",
      "\u001b[1;31mIndexError\u001b[0m: index 2 is out of bounds for axis 0 with size 2"
     ]
    }
   ],
   "source": [
    "print (np.max(np.matrix(errors_lr).T[0]))\n",
    "\n",
    "print (np.max(np.matrix(errors_lr).T[1]))\n",
    "#print np.max(np.matrix(errors_nn).T[1])\n",
    "\n",
    "print (np.max(np.matrix(errors_lr).T[2]))\n",
    "#print np.max(np.matrix(errors_nn).T[2])"
   ]
  },
  {
   "cell_type": "markdown",
   "metadata": {},
   "source": [
    "# nn model:"
   ]
  },
  {
   "cell_type": "code",
   "execution_count": 17,
   "metadata": {
    "collapsed": false
   },
   "outputs": [
    {
     "name": "stdout",
     "output_type": "stream",
     "text": [
      "computing for  24\n"
     ]
    }
   ],
   "source": [
    "errors_nn = []\n",
    "\n",
    "for n_prev in range(20, 25):\n",
    "    print \"computing for \", n_prev\n",
    "    clear_output(wait=True)\n",
    "    X_e, y_e = dim_extend(X, y, n_prev)\n",
    "    X_train_e, X_test_e = X_e[:int(len(X_e) * 0.75)], X_e[int(len(X_e) * 0.75):]\n",
    "    y_train_e, y_test_e = y_e[:int(len(y_e) * 0.75)], y_e[int(len(y_e) * 0.75):]\n",
    "    nn = nn_model(X_train_e)\n",
    "    nn.fit(X_train_e, y_train_e, nb_epoch=int(n_prev / 6.) + 6, verbose=False)\n",
    "    y_pred_e = nn.predict(X_test_e)\n",
    "    errors_nn.append(pass_quality(y_test_e, (nn.predict(X_test_e) > 0.5).astype(int).flatten()))"
   ]
  },
  {
   "cell_type": "code",
   "execution_count": 18,
   "metadata": {
    "collapsed": false
   },
   "outputs": [
    {
     "name": "stdout",
     "output_type": "stream",
     "text": [
      "78.3904743261\n",
      "1613.2\n"
     ]
    },
    {
     "ename": "IndexError",
     "evalue": "index 2 is out of bounds for axis 0 with size 2",
     "output_type": "error",
     "traceback": [
      "\u001b[1;31m\u001b[0m",
      "\u001b[1;31mIndexError\u001b[0mTraceback (most recent call last)",
      "\u001b[1;32m<ipython-input-18-9795dcdf9a48>\u001b[0m in \u001b[0;36m<module>\u001b[1;34m()\u001b[0m\n\u001b[0;32m      4\u001b[0m \u001b[1;31m#print np.max(np.matrix(errors_nn).T[1])\u001b[0m\u001b[1;33m\u001b[0m\u001b[1;33m\u001b[0m\u001b[0m\n\u001b[0;32m      5\u001b[0m \u001b[1;33m\u001b[0m\u001b[0m\n\u001b[1;32m----> 6\u001b[1;33m \u001b[1;32mprint\u001b[0m \u001b[1;33m(\u001b[0m\u001b[0mnp\u001b[0m\u001b[1;33m.\u001b[0m\u001b[0mmean\u001b[0m\u001b[1;33m(\u001b[0m\u001b[0mnp\u001b[0m\u001b[1;33m.\u001b[0m\u001b[0mmatrix\u001b[0m\u001b[1;33m(\u001b[0m\u001b[0merrors_nn\u001b[0m\u001b[1;33m)\u001b[0m\u001b[1;33m.\u001b[0m\u001b[0mT\u001b[0m\u001b[1;33m[\u001b[0m\u001b[1;36m2\u001b[0m\u001b[1;33m]\u001b[0m\u001b[1;33m)\u001b[0m\u001b[1;33m)\u001b[0m\u001b[1;33m\u001b[0m\u001b[0m\n\u001b[0m\u001b[0;32m      7\u001b[0m \u001b[1;31m#print np.max(np.matrix(errors_nn).T[2])\u001b[0m\u001b[1;33m\u001b[0m\u001b[1;33m\u001b[0m\u001b[0m\n",
      "\u001b[1;32m/home/novikov/Documents/anaconda2/envs/vovacher/lib/python2.7/site-packages/numpy/matrixlib/defmatrix.pyc\u001b[0m in \u001b[0;36m__getitem__\u001b[1;34m(self, index)\u001b[0m\n\u001b[0;32m    316\u001b[0m \u001b[1;33m\u001b[0m\u001b[0m\n\u001b[0;32m    317\u001b[0m         \u001b[1;32mtry\u001b[0m\u001b[1;33m:\u001b[0m\u001b[1;33m\u001b[0m\u001b[0m\n\u001b[1;32m--> 318\u001b[1;33m             \u001b[0mout\u001b[0m \u001b[1;33m=\u001b[0m \u001b[0mN\u001b[0m\u001b[1;33m.\u001b[0m\u001b[0mndarray\u001b[0m\u001b[1;33m.\u001b[0m\u001b[0m__getitem__\u001b[0m\u001b[1;33m(\u001b[0m\u001b[0mself\u001b[0m\u001b[1;33m,\u001b[0m \u001b[0mindex\u001b[0m\u001b[1;33m)\u001b[0m\u001b[1;33m\u001b[0m\u001b[0m\n\u001b[0m\u001b[0;32m    319\u001b[0m         \u001b[1;32mfinally\u001b[0m\u001b[1;33m:\u001b[0m\u001b[1;33m\u001b[0m\u001b[0m\n\u001b[0;32m    320\u001b[0m             \u001b[0mself\u001b[0m\u001b[1;33m.\u001b[0m\u001b[0m_getitem\u001b[0m \u001b[1;33m=\u001b[0m \u001b[0mFalse\u001b[0m\u001b[1;33m\u001b[0m\u001b[0m\n",
      "\u001b[1;31mIndexError\u001b[0m: index 2 is out of bounds for axis 0 with size 2"
     ]
    }
   ],
   "source": [
    "print (np.mean(np.matrix(errors_nn).T[0]))\n",
    "\n",
    "print (np.mean(np.matrix(errors_nn).T[1]))\n",
    "#print np.max(np.matrix(errors_nn).T[1])\n",
    "\n",
    "print (np.mean(np.matrix(errors_nn).T[2]))\n",
    "#print np.max(np.matrix(errors_nn).T[2])"
   ]
  },
  {
   "cell_type": "markdown",
   "metadata": {},
   "source": [
    "# benchmark:"
   ]
  },
  {
   "cell_type": "code",
   "execution_count": 44,
   "metadata": {
    "collapsed": false
   },
   "outputs": [],
   "source": [
    "from utils.data import load_data\n",
    "from utils.pass_quality import pass_quality"
   ]
  },
  {
   "cell_type": "code",
   "execution_count": null,
   "metadata": {
    "collapsed": false
   },
   "outputs": [],
   "source": [
    "errors = []\n",
    "\n",
    "for iteration in range(30):\n",
    "    print iteration\n",
    "    data = load_data()\n",
    "    y_lab, y = data[['pass']].values, data['y'].values\n",
    "    _, y = y[:int(len(y) * 0.75)], y[int(len(y) * 0.75):]\n",
    "    _, y_lab = y_lab[:int(len(y_lab) * 0.75)], y_lab[int(len(y_lab) * 0.75):]\n",
    "\n",
    "    #xgb = XGBClassifier()\n",
    "    #lr = LogisticRegression()\n",
    "    #nn = nn_model(X_train)\n",
    "\n",
    "    #xgb.fit(X_train, y_train)\n",
    "    #lr.fit(X_train, y_train)\n",
    "    #nn.fit(X_train, y_train, nb_epoch=4, verbose=False)\n",
    "\n",
    "    #y_pred_xgb = xgb.predict(X_test)\n",
    "    #y_pred_lr = lr.predict(X_test)\n",
    "    #y_pred_nn = (nn.predict(X_test) > 0.5).astype(int).flatten()\n",
    "    errors.append(pass_quality(y_lab.flatten(), y))"
   ]
  },
  {
   "cell_type": "code",
   "execution_count": 54,
   "metadata": {
    "collapsed": false
   },
   "outputs": [
    {
     "name": "stdout",
     "output_type": "stream",
     "text": [
      "91.3886916966\n",
      "1684.2962963\n",
      "158.703703704\n"
     ]
    }
   ],
   "source": [
    "print np.mean(np.matrix(errors).T[0])\n",
    "\n",
    "print np.mean(np.matrix(errors).T[1])\n",
    "#print np.max(np.matrix(errors_nn).T[1])\n",
    "\n",
    "print np.mean(np.matrix(errors).T[2])\n",
    "#print np.max(np.matrix(errors_nn).T[2])"
   ]
  },
  {
   "cell_type": "markdown",
   "metadata": {},
   "source": [
    "# RNN model"
   ]
  },
  {
   "cell_type": "code",
   "execution_count": 22,
   "metadata": {
    "collapsed": false
   },
   "outputs": [
    {
     "data": {
      "text/plain": [
       "0.8926773341309008"
      ]
     },
     "execution_count": 22,
     "metadata": {},
     "output_type": "execute_result"
    }
   ],
   "source": [
    "1790.8 / (215.3 + 1790.8)"
   ]
  },
  {
   "cell_type": "code",
   "execution_count": 38,
   "metadata": {
    "collapsed": true
   },
   "outputs": [],
   "source": [
    "from utils.utils import morphological_filter\n",
    "from scipy.ndimage.morphology import (binary_fill_holes, \n",
    "                                      binary_closing, \n",
    "                                      binary_dilation,\n",
    "                                      binary_erosion,\n",
    "                                      binary_opening)"
   ]
  },
  {
   "cell_type": "code",
   "execution_count": 35,
   "metadata": {
    "collapsed": false
   },
   "outputs": [
    {
     "data": {
      "text/plain": [
       "array([1, 1, 0, 0, 0, 0, 1, 1, 0, 0])"
      ]
     },
     "execution_count": 35,
     "metadata": {},
     "output_type": "execute_result"
    }
   ],
   "source": [
    "morphological_filter(y_test, 3)[:10]"
   ]
  },
  {
   "cell_type": "code",
   "execution_count": 37,
   "metadata": {
    "collapsed": false
   },
   "outputs": [
    {
     "data": {
      "text/plain": [
       "array([ True,  True,  True,  True,  True,  True,  True,  True,  True,  True], dtype=bool)"
      ]
     },
     "execution_count": 37,
     "metadata": {},
     "output_type": "execute_result"
    }
   ],
   "source": [
    "binary_fill_holes(y_test)[:10]"
   ]
  },
  {
   "cell_type": "code",
   "execution_count": 34,
   "metadata": {
    "collapsed": false
   },
   "outputs": [
    {
     "data": {
      "text/plain": [
       "array([1, 0, 1, 0, 0, 0, 1, 1, 0, 0])"
      ]
     },
     "execution_count": 34,
     "metadata": {},
     "output_type": "execute_result"
    }
   ],
   "source": [
    "y_test[:10]"
   ]
  },
  {
   "cell_type": "code",
   "execution_count": 60,
   "metadata": {
    "collapsed": false
   },
   "outputs": [
    {
     "data": {
      "text/plain": [
       "0.73518509365887408"
      ]
     },
     "execution_count": 60,
     "metadata": {},
     "output_type": "execute_result"
    }
   ],
   "source": [
    "accuracy_score(binary_closing(binary_closing(binary_closing(y_test).astype(int))), morphological_filter(y_test, 3))"
   ]
  },
  {
   "cell_type": "code",
   "execution_count": 41,
   "metadata": {
    "collapsed": true
   },
   "outputs": [],
   "source": [
    "from sklearn.metrics import accuracy_score"
   ]
  },
  {
   "cell_type": "code",
   "execution_count": 74,
   "metadata": {
    "collapsed": false
   },
   "outputs": [],
   "source": [
    "from IPython.display import SVG\n",
    "from keras.utils.visualize_util import plot\n",
    "from keras.layers import SimpleRNN, Dense, Dropout, LSTM\n",
    "from keras.models import Sequential\n",
    "\n",
    "from utils.data import load_data, train_test_split\n",
    "from utils.cv import cv_build_model, cv_fit_model, cv_threshold\n",
    "from utils.utils import morphological_filter\n",
    "from utils.pass_quality import approx_pq, pass_quality\n",
    "\n",
    "import pickle\n",
    "#SVG(model_to_dot(model, show_shapes=True).create(prog='dot', format='svg'), filename='model.svg')"
   ]
  },
  {
   "cell_type": "code",
   "execution_count": 78,
   "metadata": {
    "collapsed": true
   },
   "outputs": [],
   "source": [
    "def cv_build_model(X_train):#, metrics=[pq_theano]):\n",
    "    \"\"\"\n",
    "    A function for building Recurrent Neural Network model with\n",
    "    predefined parameters (X_train used because of input_shape\n",
    "    parameter estimation)\n",
    "\n",
    "    :param X_train: training dataset\n",
    "    :return: model: keras neural netwok model\n",
    "    \"\"\"\n",
    "    model = Sequential()\n",
    "    model.add(LSTM(input_dim=X_train.shape[2], output_dim=8, return_sequences=False))\n",
    "    model.add(Dropout(0.25))\n",
    "    model.add(Dense(16, activation='tanh'))\n",
    "    model.add(Dropout(0.25))\n",
    "    model.add(Dense(8, activation='tanh'))\n",
    "    model.add(Dropout(0.25))\n",
    "    model.add(Dense(1, activation='tanh'))\n",
    "\n",
    "    # or with regularized_mse loss\n",
    "    model.compile(optimizer='rmsprop',\n",
    "                  loss='MSE',\n",
    "                #  metrics=metrics\n",
    "                  )\n",
    "\n",
    "    return model"
   ]
  },
  {
   "cell_type": "code",
   "execution_count": 79,
   "metadata": {
    "collapsed": false
   },
   "outputs": [
    {
     "name": "stdout",
     "output_type": "stream",
     "text": [
      "Epoch 79/80\n",
      "Epoch 1/1\n",
      "64269/64269 [==============================] - 3s - loss: 0.0933     \n"
     ]
    }
   ],
   "source": [
    "used_cols = [['cor', 'shield', 'loop', 'y'],\n",
    "             ['cor', 'shield', 'y']]\n",
    "\n",
    "\n",
    "conc_data = load_data()\n",
    "X_train, X_test, y_train, y_test = train_test_split(conc_data[used_cols[0]], \n",
    "                                                            test_size=0.25,\n",
    "                                                            n_prev=45)\n",
    "\n",
    "model = cv_build_model(X_train)\n",
    "\n",
    "model = cv_fit_model(model, X_train, y_train, nb_epoch=80, weights=False)        \n",
    "        \n",
    "        #model = cv_fit_model(model, X_train, y_train, nb_epoch=80, weights=False) #DEBUG\n",
    "\n",
    "thres, sm = cv_threshold(X_train, y_train, model, [0, 1, 2, 3])\n",
    "        \n",
    "        #thres, sm = cv_threshold(X_train, y_train, model, [0])#, 1, 2, 3]) # DEBUG\n",
    "        \n",
    "y_train_pred = morphological_filter((model.predict(X_train) > thres).astype(int).flatten(), sm)\n",
    "\n",
    "y_test_pred = morphological_filter((model.predict(X_test) > thres).astype(int).flatten(), sm)\n",
    "\n",
    "pq = approx_pq(y_test.astype(int), y_test_pred)\n",
    "pq_train = approx_pq(y_train.astype(int), y_train_pred)\n",
    "        \n",
    "pq_Ivan = pass_quality(y_test.astype(int), y_test_pred)"
   ]
  },
  {
   "cell_type": "code",
   "execution_count": 81,
   "metadata": {
    "collapsed": false
   },
   "outputs": [
    {
     "name": "stdout",
     "output_type": "stream",
     "text": [
      "(0.83662650602488375, 1736.0000000099999, 339.0000000000001)\n",
      "(0.82645161290350577, 5124.0000000099999, 1076.0)\n"
     ]
    }
   ],
   "source": [
    "print pq[:-1]\n",
    "print pq_train[:-1]"
   ]
  },
  {
   "cell_type": "code",
   "execution_count": 19,
   "metadata": {
    "collapsed": true
   },
   "outputs": [],
   "source": [
    "plot(model, to_file='model.png', show_shapes=True)"
   ]
  },
  {
   "cell_type": "markdown",
   "metadata": {
    "collapsed": true
   },
   "source": [
    "# FINAL"
   ]
  },
  {
   "cell_type": "code",
   "execution_count": 134,
   "metadata": {
    "collapsed": false
   },
   "outputs": [],
   "source": [
    "from utils.pass_quality import approx_pq, pass_quality"
   ]
  },
  {
   "cell_type": "code",
   "execution_count": 175,
   "metadata": {
    "collapsed": false
   },
   "outputs": [
    {
     "name": "stdout",
     "output_type": "stream",
     "text": [
      "[   94.81523834  1764.5           96.5       ]\n",
      "[  0.9390924   17.62526596  17.47140521]\n"
     ]
    }
   ],
   "source": [
    "result = pickle.load(open('results/result_cor+shield+loop', 'r'))\n",
    "print np.mean([result[i]['pass_quality'] for i in range(len(result))], axis=0)\n",
    "print np.std([result[i]['pass_quality'] for i in range(len(result))], axis=0)"
   ]
  },
  {
   "cell_type": "code",
   "execution_count": 176,
   "metadata": {
    "collapsed": false
   },
   "outputs": [
    {
     "name": "stdout",
     "output_type": "stream",
     "text": [
      "[   94.96903929  1770.8           93.9       ]\n",
      "[  0.68240379  10.6282642   13.45696846]\n"
     ]
    }
   ],
   "source": [
    "result = pickle.load(open('results/result_cor+shield', 'r'))\n",
    "print np.mean([result[i]['pass_quality'] for i in range(len(result))], axis=0)\n",
    "print np.std([result[i]['pass_quality'] for i in range(len(result))], axis=0)"
   ]
  },
  {
   "cell_type": "code",
   "execution_count": 177,
   "metadata": {
    "collapsed": false
   },
   "outputs": [
    {
     "name": "stdout",
     "output_type": "stream",
     "text": [
      "[   90.95034787  1713.4          170.6       ]\n",
      "[  1.13912651  16.71645896  22.40178564]\n"
     ]
    }
   ],
   "source": [
    "result = pickle.load(open('results/result_cor+loop', 'r'))\n",
    "print np.mean([result[i]['pass_quality'] for i in range(len(result))], axis=0)\n",
    "print np.std([result[i]['pass_quality'] for i in range(len(result))], axis=0)"
   ]
  },
  {
   "cell_type": "code",
   "execution_count": 178,
   "metadata": {
    "collapsed": false
   },
   "outputs": [
    {
     "name": "stdout",
     "output_type": "stream",
     "text": [
      "[   93.00713864  1738.7          130.8       ]\n",
      "[  0.8875012   11.92518344  17.18022119]\n"
     ]
    }
   ],
   "source": [
    "result = pickle.load(open('results/result_shield+loop', 'r'))\n",
    "print np.mean([result[i]['pass_quality'] for i in range(len(result))], axis=0)\n",
    "print np.std([result[i]['pass_quality'] for i in range(len(result))], axis=0)"
   ]
  },
  {
   "cell_type": "code",
   "execution_count": 179,
   "metadata": {
    "collapsed": false
   },
   "outputs": [
    {
     "name": "stdout",
     "output_type": "stream",
     "text": [
      "[   89.3257022  1679.5         200.8      ]\n",
      "[  1.2639559   22.60641502  24.57152824]\n"
     ]
    }
   ],
   "source": [
    "result = pickle.load(open('results/result_shield', 'r'))\n",
    "print np.mean([result[i]['pass_quality'] for i in range(len(result))], axis=0)\n",
    "print np.std([result[i]['pass_quality'] for i in range(len(result))], axis=0)"
   ]
  },
  {
   "cell_type": "code",
   "execution_count": 180,
   "metadata": {
    "collapsed": false
   },
   "outputs": [
    {
     "name": "stdout",
     "output_type": "stream",
     "text": [
      "[   86.37189729  1621.6          255.9       ]\n",
      "[  0.99158878  18.33684815  19.07590103]\n"
     ]
    }
   ],
   "source": [
    "result = pickle.load(open('results/result_loop', 'r'))\n",
    "print np.mean([result[i]['pass_quality'] for i in range(len(result))], axis=0)\n",
    "print np.std([result[i]['pass_quality'] for i in range(len(result))], axis=0)"
   ]
  },
  {
   "cell_type": "code",
   "execution_count": 181,
   "metadata": {
    "collapsed": false
   },
   "outputs": [
    {
     "name": "stdout",
     "output_type": "stream",
     "text": [
      "[   91.77026954  1714.1          153.9       ]\n",
      "[  1.8907605   31.28402148  36.33854703]\n"
     ]
    }
   ],
   "source": [
    "result = pickle.load(open('results/result_cor', 'r'))\n",
    "print np.mean([result[i]['pass_quality'] for i in range(len(result))], axis=0)\n",
    "print np.std([result[i]['pass_quality'] for i in range(len(result))], axis=0)"
   ]
  },
  {
   "cell_type": "code",
   "execution_count": 11,
   "metadata": {
    "collapsed": false
   },
   "outputs": [
    {
     "name": "stdout",
     "output_type": "stream",
     "text": [
      "[   95.07425072  1769.85          91.75      ]\n",
      "[  0.63585293  12.08211488  12.28973149]\n"
     ]
    }
   ],
   "source": [
    "result = pickle.load(open('results/result_cor+shield', 'r'))\n",
    "result30 = pickle.load(open('results/result30_cor+shield', 'r'))\n",
    "result = np.concatenate([result, result30])\n",
    "print np.mean([result[i]['pass_quality'] for i in range(len(result))], axis=0)\n",
    "print np.std([result[i]['pass_quality'] for i in range(len(result))], axis=0)"
   ]
  },
  {
   "cell_type": "code",
   "execution_count": 12,
   "metadata": {
    "collapsed": false
   },
   "outputs": [
    {
     "name": "stdout",
     "output_type": "stream",
     "text": [
      "[   94.99541766  1767.6           93.15      ]\n",
      "[  0.86582434  18.55909481  16.2412284 ]\n"
     ]
    }
   ],
   "source": [
    "result = pickle.load(open('results/result_cor+shield+loop', 'r'))\n",
    "result30 = pickle.load(open('results/result30_cor+shield+loop', 'r'))\n",
    "result = np.concatenate([result, result30])\n",
    "print np.mean([result[i]['pass_quality'] for i in range(len(result))], axis=0)\n",
    "print np.std([result[i]['pass_quality'] for i in range(len(result))], axis=0)"
   ]
  },
  {
   "cell_type": "code",
   "execution_count": null,
   "metadata": {
    "collapsed": true
   },
   "outputs": [],
   "source": []
  }
 ],
 "metadata": {
  "kernelspec": {
   "display_name": "Python 2",
   "language": "python",
   "name": "python2"
  },
  "language_info": {
   "codemirror_mode": {
    "name": "ipython",
    "version": 2
   },
   "file_extension": ".py",
   "mimetype": "text/x-python",
   "name": "python",
   "nbconvert_exporter": "python",
   "pygments_lexer": "ipython2",
   "version": "2.7.11"
  }
 },
 "nbformat": 4,
 "nbformat_minor": 0
}
